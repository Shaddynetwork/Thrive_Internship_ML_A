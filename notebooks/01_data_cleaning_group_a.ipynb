{
  "cells": [
    {
      "cell_type": "markdown",
      "metadata": {
        "id": "PhmTGzbD9Bdo"
      },
      "source": [
        "##DATA CLEANING NOTEBOOK FOR GROUP A\n",
        "\n",
        "This notebook contains the necessary jupiter notebook codes needed to clean the dirty customer support ticket dataset for our ML Internship week 1 project.\n",
        "\n",
        "It basically does the following:\n",
        "1. Load the necessary libraries\n",
        "2. Loads and reads the dataset in a csv format\n",
        "3. Performs basic EDA to check for missing data\n",
        "Displays the top 10 and last 10 rows of the data to inspect the text\n",
        "4. Performs the needed cleaning to correct labels, remove unwanted characters, emojis, duplicates, unwanted standalone texts/numbers and deal with missing data.\n",
        "5. Saves the clean dataset to (customer_support_tickets_clean_500.csv)"
      ]
    },
    {
      "cell_type": "markdown",
      "metadata": {
        "id": "r46Th_t3ieIi"
      },
      "source": [
        "\n",
        "\n",
        ">## 1.  Install libraries\n",
        "\n"
      ]
    },
    {
      "cell_type": "code",
      "execution_count": 29,
      "metadata": {
        "id": "_FnmFaQ3bK7p"
      },
      "outputs": [],
      "source": [
        "import os\n",
        "import pandas as pd\n",
        "import numpy as np\n",
        "import re\n",
        "import matplotlib.pyplot as plt\n",
        "from collections import Counter\n",
        "from sklearn.model_selection import train_test_split\n",
        "import httpx"
      ]
    },
    {
      "cell_type": "code",
      "execution_count": 30,
      "metadata": {},
      "outputs": [
        {
          "name": "stdout",
          "output_type": "stream",
          "text": [
            "sys.executable: c:\\Users\\ankom\\AppData\\Local\\Programs\\Python\\Python313\\python.exe\n",
            "python version: 3.13.7 (tags/v3.13.7:bcee1c3, Aug 14 2025, 14:15:11) [MSC v.1944 64 bit (AMD64)]\n",
            "pandas 2.3.3\n",
            "matplotlib 3.10.7\n",
            "sklearn 1.7.2\n"
          ]
        }
      ],
      "source": [
        "import sys\n",
        "print('sys.executable:', sys.executable)\n",
        "print('python version:', sys.version)\n",
        "import pandas as pd, matplotlib, sklearn\n",
        "print('pandas', pd.__version__)\n",
        "print('matplotlib', matplotlib.__version__)\n",
        "print('sklearn', sklearn.__version__)"
      ]
    },
    {
      "cell_type": "markdown",
      "metadata": {
        "id": "wSr43xh5ir-f"
      },
      "source": [
        "## 2. Load data"
      ]
    },
    {
      "cell_type": "code",
      "execution_count": 31,
      "metadata": {},
      "outputs": [],
      "source": [
        "DATA_PATH = r'C:\\Users\\ankom\\Thrive_Internship_ML_A\\customer_support_tickets_dirty.csv'"
      ]
    },
    {
      "cell_type": "code",
      "execution_count": 32,
      "metadata": {},
      "outputs": [
        {
          "name": "stdout",
          "output_type": "stream",
          "text": [
            "✅ Data loaded. Shape: (520, 4)\n"
          ]
        },
        {
          "data": {
            "text/html": [
              "<div>\n",
              "<style scoped>\n",
              "    .dataframe tbody tr th:only-of-type {\n",
              "        vertical-align: middle;\n",
              "    }\n",
              "\n",
              "    .dataframe tbody tr th {\n",
              "        vertical-align: top;\n",
              "    }\n",
              "\n",
              "    .dataframe thead th {\n",
              "        text-align: right;\n",
              "    }\n",
              "</style>\n",
              "<table border=\"1\" class=\"dataframe\">\n",
              "  <thead>\n",
              "    <tr style=\"text-align: right;\">\n",
              "      <th></th>\n",
              "      <th>text</th>\n",
              "      <th>label</th>\n",
              "      <th>ticket_id</th>\n",
              "      <th>agent_name</th>\n",
              "    </tr>\n",
              "  </thead>\n",
              "  <tbody>\n",
              "    <tr>\n",
              "      <th>0</th>\n",
              "      <td>Where can I find API rate limits documentation?</td>\n",
              "      <td>Othr</td>\n",
              "      <td>1000</td>\n",
              "      <td>Dana</td>\n",
              "    </tr>\n",
              "    <tr>\n",
              "      <th>1</th>\n",
              "      <td>Can I migrate data from Freshdesk?</td>\n",
              "      <td>Othr</td>\n",
              "      <td>1001</td>\n",
              "      <td>Bob</td>\n",
              "    </tr>\n",
              "    <tr>\n",
              "      <th>2</th>\n",
              "      <td>Cannot update billing address; page keeps relo...</td>\n",
              "      <td>billing</td>\n",
              "      <td>1002</td>\n",
              "      <td>Charlie</td>\n",
              "    </tr>\n",
              "    <tr>\n",
              "      <th>3</th>\n",
              "      <td>Looking for a product roadmap or upcoming feat...</td>\n",
              "      <td>other</td>\n",
              "      <td>1003</td>\n",
              "      <td>Dana</td>\n",
              "    </tr>\n",
              "    <tr>\n",
              "      <th>4</th>\n",
              "      <td>Dark mode toggled but UI stays light.</td>\n",
              "      <td>Tech-support</td>\n",
              "      <td>1004</td>\n",
              "      <td>Alice</td>\n",
              "    </tr>\n",
              "  </tbody>\n",
              "</table>\n",
              "</div>"
            ],
            "text/plain": [
              "                                                text         label  ticket_id  \\\n",
              "0    Where can I find API rate limits documentation?          Othr       1000   \n",
              "1                 Can I migrate data from Freshdesk?          Othr       1001   \n",
              "2  Cannot update billing address; page keeps relo...       billing       1002   \n",
              "3  Looking for a product roadmap or upcoming feat...         other       1003   \n",
              "4              Dark mode toggled but UI stays light.  Tech-support       1004   \n",
              "\n",
              "  agent_name  \n",
              "0       Dana  \n",
              "1        Bob  \n",
              "2    Charlie  \n",
              "3       Dana  \n",
              "4      Alice  "
            ]
          },
          "execution_count": 32,
          "metadata": {},
          "output_type": "execute_result"
        }
      ],
      "source": [
        "df = pd.read_csv(DATA_PATH)\n",
        "print(\"✅ Data loaded. Shape:\", df.shape)\n",
        "df.head()"
      ]
    },
    {
      "cell_type": "markdown",
      "metadata": {
        "id": "2OR7Fv6yjw-W"
      },
      "source": [
        "## Read Data"
      ]
    },
    {
      "cell_type": "code",
      "execution_count": 33,
      "metadata": {
        "colab": {
          "base_uri": "https://localhost:8080/"
        },
        "id": "_y8JOEr1j0pu",
        "outputId": "32b33dd7-37bb-40b7-defb-9f599124ed41"
      },
      "outputs": [
        {
          "name": "stdout",
          "output_type": "stream",
          "text": [
            "✅ Loaded dataset.\n",
            "Shape: (520, 4)\n"
          ]
        }
      ],
      "source": [
        "df = pd.read_csv(DATA_PATH)\n",
        "\n",
        "print(\"✅ Loaded dataset.\")\n",
        "print(\"Shape:\", df.shape)\n"
      ]
    },
    {
      "cell_type": "markdown",
      "metadata": {
        "id": "49gK0umakez-"
      },
      "source": [
        "## Exploratory Data Analysis (EDA)"
      ]
    },
    {
      "cell_type": "code",
      "execution_count": 34,
      "metadata": {
        "id": "EbQMn1IviZau"
      },
      "outputs": [],
      "source": [
        "#df.info()\n",
        "#df.isnull().sum()\n"
      ]
    },
    {
      "cell_type": "code",
      "execution_count": 35,
      "metadata": {
        "colab": {
          "base_uri": "https://localhost:8080/"
        },
        "id": "4rpGm0MRkrw1",
        "outputId": "aec6e1e3-491c-4cea-b77d-5c1e320b200c"
      },
      "outputs": [
        {
          "name": "stdout",
          "output_type": "stream",
          "text": [
            "Columns: ['text', 'label', 'ticket_id', 'agent_name']\n",
            "\n",
            "Info:\n",
            "<class 'pandas.core.frame.DataFrame'>\n",
            "RangeIndex: 520 entries, 0 to 519\n",
            "Data columns (total 4 columns):\n",
            " #   Column      Non-Null Count  Dtype \n",
            "---  ------      --------------  ----- \n",
            " 0   text        495 non-null    object\n",
            " 1   label       495 non-null    object\n",
            " 2   ticket_id   520 non-null    int64 \n",
            " 3   agent_name  520 non-null    object\n",
            "dtypes: int64(1), object(3)\n",
            "memory usage: 16.4+ KB\n",
            "None\n",
            "\n",
            "Missing values per column:\n",
            "text          25\n",
            "label         25\n",
            "ticket_id      0\n",
            "agent_name     0\n",
            "dtype: int64\n"
          ]
        }
      ],
      "source": [
        "print(\"Columns:\", df.columns.tolist())\n",
        "print(\"\\nInfo:\")\n",
        "print(df.info())\n",
        "\n",
        "print(\"\\nMissing values per column:\")\n",
        "print(df.isna().sum())"
      ]
    },
    {
      "cell_type": "markdown",
      "metadata": {
        "id": "rxjqEArUp80C"
      },
      "source": [
        "Finding Percentage of missing data"
      ]
    },
    {
      "cell_type": "code",
      "execution_count": 36,
      "metadata": {
        "colab": {
          "base_uri": "https://localhost:8080/"
        },
        "id": "KmtyZw6tmxWM",
        "outputId": "1926a991-b9d6-4e9a-fb7a-04ec8b035f47"
      },
      "outputs": [
        {
          "name": "stdout",
          "output_type": "stream",
          "text": [
            "text          4.807692\n",
            "label         4.807692\n",
            "ticket_id     0.000000\n",
            "agent_name    0.000000\n",
            "dtype: float64\n"
          ]
        }
      ],
      "source": [
        "missing_percent = df.isnull().mean() * 100\n",
        "print(missing_percent)\n"
      ]
    },
    {
      "cell_type": "markdown",
      "metadata": {
        "id": "Xr1Po7cduVIa"
      },
      "source": [
        "We considered replacing the missing data with \"unknown\" because the percentage of missing values is less than 5%"
      ]
    },
    {
      "cell_type": "markdown",
      "metadata": {
        "id": "I4Rdpu5hgDHg"
      },
      "source": [
        "**EDA- First looking at the Data**"
      ]
    },
    {
      "cell_type": "code",
      "execution_count": 17,
      "metadata": {
        "colab": {
          "base_uri": "https://localhost:8080/",
          "height": 502
        },
        "id": "u5X3aaeegU_u",
        "outputId": "9e902dd4-7f0f-46c5-8acc-ec242585477a"
      },
      "outputs": [
        {
          "data": {
            "text/html": [
              "<div>\n",
              "<style scoped>\n",
              "    .dataframe tbody tr th:only-of-type {\n",
              "        vertical-align: middle;\n",
              "    }\n",
              "\n",
              "    .dataframe tbody tr th {\n",
              "        vertical-align: top;\n",
              "    }\n",
              "\n",
              "    .dataframe thead th {\n",
              "        text-align: right;\n",
              "    }\n",
              "</style>\n",
              "<table border=\"1\" class=\"dataframe\">\n",
              "  <thead>\n",
              "    <tr style=\"text-align: right;\">\n",
              "      <th></th>\n",
              "      <th>text</th>\n",
              "      <th>label</th>\n",
              "      <th>ticket_id</th>\n",
              "      <th>agent_name</th>\n",
              "    </tr>\n",
              "  </thead>\n",
              "  <tbody>\n",
              "    <tr>\n",
              "      <th>0</th>\n",
              "      <td>Where can I find API rate limits documentation?</td>\n",
              "      <td>Othr</td>\n",
              "      <td>1000</td>\n",
              "      <td>Dana</td>\n",
              "    </tr>\n",
              "    <tr>\n",
              "      <th>1</th>\n",
              "      <td>Can I migrate data from Freshdesk?</td>\n",
              "      <td>Othr</td>\n",
              "      <td>1001</td>\n",
              "      <td>Bob</td>\n",
              "    </tr>\n",
              "    <tr>\n",
              "      <th>2</th>\n",
              "      <td>Cannot update billing address; page keeps relo...</td>\n",
              "      <td>billing</td>\n",
              "      <td>1002</td>\n",
              "      <td>Charlie</td>\n",
              "    </tr>\n",
              "    <tr>\n",
              "      <th>3</th>\n",
              "      <td>Looking for a product roadmap or upcoming feat...</td>\n",
              "      <td>other</td>\n",
              "      <td>1003</td>\n",
              "      <td>Dana</td>\n",
              "    </tr>\n",
              "    <tr>\n",
              "      <th>4</th>\n",
              "      <td>Dark mode toggled but UI stays light.</td>\n",
              "      <td>Tech-support</td>\n",
              "      <td>1004</td>\n",
              "      <td>Alice</td>\n",
              "    </tr>\n",
              "    <tr>\n",
              "      <th>5</th>\n",
              "      <td>Promo code SPRING15 not applied at checkout.</td>\n",
              "      <td>billing</td>\n",
              "      <td>1005</td>\n",
              "      <td>Alice</td>\n",
              "    </tr>\n",
              "    <tr>\n",
              "      <th>6</th>\n",
              "      <td>Incorrect role assigned; need admin access for...</td>\n",
              "      <td>account</td>\n",
              "      <td>1006</td>\n",
              "      <td>Dana</td>\n",
              "    </tr>\n",
              "    <tr>\n",
              "      <th>7</th>\n",
              "      <td>File export to CSV generates corrupted file.</td>\n",
              "      <td>technical</td>\n",
              "      <td>1007</td>\n",
              "      <td>Dana</td>\n",
              "    </tr>\n",
              "    <tr>\n",
              "      <th>8</th>\n",
              "      <td>Overcharged by GHS 120 on my last bill. 😡</td>\n",
              "      <td>billing</td>\n",
              "      <td>1008</td>\n",
              "      <td>Dana</td>\n",
              "    </tr>\n",
              "    <tr>\n",
              "      <th>9</th>\n",
              "      <td>NaN</td>\n",
              "      <td>account</td>\n",
              "      <td>1009</td>\n",
              "      <td>Dana</td>\n",
              "    </tr>\n",
              "  </tbody>\n",
              "</table>\n",
              "</div>"
            ],
            "text/plain": [
              "                                                text         label  ticket_id  \\\n",
              "0    Where can I find API rate limits documentation?          Othr       1000   \n",
              "1                 Can I migrate data from Freshdesk?          Othr       1001   \n",
              "2  Cannot update billing address; page keeps relo...       billing       1002   \n",
              "3  Looking for a product roadmap or upcoming feat...         other       1003   \n",
              "4              Dark mode toggled but UI stays light.  Tech-support       1004   \n",
              "5       Promo code SPRING15 not applied at checkout.       billing       1005   \n",
              "6  Incorrect role assigned; need admin access for...       account       1006   \n",
              "7       File export to CSV generates corrupted file.     technical       1007   \n",
              "8          Overcharged by GHS 120 on my last bill. 😡       billing       1008   \n",
              "9                                                NaN       account       1009   \n",
              "\n",
              "  agent_name  \n",
              "0       Dana  \n",
              "1        Bob  \n",
              "2    Charlie  \n",
              "3       Dana  \n",
              "4      Alice  \n",
              "5      Alice  \n",
              "6       Dana  \n",
              "7       Dana  \n",
              "8       Dana  \n",
              "9       Dana  "
            ]
          },
          "execution_count": 17,
          "metadata": {},
          "output_type": "execute_result"
        }
      ],
      "source": [
        "# diplaying first 10 rows\n",
        "df.head(10)\n"
      ]
    },
    {
      "cell_type": "code",
      "execution_count": 37,
      "metadata": {
        "colab": {
          "base_uri": "https://localhost:8080/",
          "height": 502
        },
        "id": "ZtCytft4hW8U",
        "outputId": "b48fb6dc-17b0-4b8e-ff3a-60e6e9ebda6e"
      },
      "outputs": [
        {
          "data": {
            "text/html": [
              "<div>\n",
              "<style scoped>\n",
              "    .dataframe tbody tr th:only-of-type {\n",
              "        vertical-align: middle;\n",
              "    }\n",
              "\n",
              "    .dataframe tbody tr th {\n",
              "        vertical-align: top;\n",
              "    }\n",
              "\n",
              "    .dataframe thead th {\n",
              "        text-align: right;\n",
              "    }\n",
              "</style>\n",
              "<table border=\"1\" class=\"dataframe\">\n",
              "  <thead>\n",
              "    <tr style=\"text-align: right;\">\n",
              "      <th></th>\n",
              "      <th>text</th>\n",
              "      <th>label</th>\n",
              "      <th>ticket_id</th>\n",
              "      <th>agent_name</th>\n",
              "    </tr>\n",
              "  </thead>\n",
              "  <tbody>\n",
              "    <tr>\n",
              "      <th>510</th>\n",
              "      <td>Requesting invoice to be sent monthly instead ...</td>\n",
              "      <td>Othr</td>\n",
              "      <td>1510</td>\n",
              "      <td>Bob</td>\n",
              "    </tr>\n",
              "    <tr>\n",
              "      <th>511</th>\n",
              "      <td>Dark mode toggled but UI stays light. 😡</td>\n",
              "      <td>Tech</td>\n",
              "      <td>1511</td>\n",
              "      <td>Dana</td>\n",
              "    </tr>\n",
              "    <tr>\n",
              "      <th>512</th>\n",
              "      <td>Do you offer discounts for students or NGOs?</td>\n",
              "      <td>Other</td>\n",
              "      <td>1512</td>\n",
              "      <td>Charlie</td>\n",
              "    </tr>\n",
              "    <tr>\n",
              "      <th>513</th>\n",
              "      <td>Live chat widget not loading on homepage. 😡</td>\n",
              "      <td>TECHNICAL</td>\n",
              "      <td>1513</td>\n",
              "      <td>Alice</td>\n",
              "    </tr>\n",
              "    <tr>\n",
              "      <th>514</th>\n",
              "      <td>Refund not received after 7 days. 😡</td>\n",
              "      <td>Billing</td>\n",
              "      <td>1514</td>\n",
              "      <td>Alice</td>\n",
              "    </tr>\n",
              "    <tr>\n",
              "      <th>515</th>\n",
              "      <td>Currency converted incorrectly; expected USD. ...</td>\n",
              "      <td>Billng</td>\n",
              "      <td>1515</td>\n",
              "      <td>Charlie</td>\n",
              "    </tr>\n",
              "    <tr>\n",
              "      <th>516</th>\n",
              "      <td>Can't verify phone number; code not sent.</td>\n",
              "      <td>ACCOUNT</td>\n",
              "      <td>1516</td>\n",
              "      <td>Alice</td>\n",
              "    </tr>\n",
              "    <tr>\n",
              "      <th>517</th>\n",
              "      <td>Dark mode toggled but UI stays light.</td>\n",
              "      <td>Tech</td>\n",
              "      <td>1517</td>\n",
              "      <td>Charlie</td>\n",
              "    </tr>\n",
              "    <tr>\n",
              "      <th>518</th>\n",
              "      <td>Search results page is blank after entering a ...</td>\n",
              "      <td>Tech</td>\n",
              "      <td>1518</td>\n",
              "      <td>Dana</td>\n",
              "    </tr>\n",
              "    <tr>\n",
              "      <th>519</th>\n",
              "      <td>Payment failed during checkout with card endin...</td>\n",
              "      <td>Billng</td>\n",
              "      <td>1519</td>\n",
              "      <td>Alice</td>\n",
              "    </tr>\n",
              "  </tbody>\n",
              "</table>\n",
              "</div>"
            ],
            "text/plain": [
              "                                                  text      label  ticket_id  \\\n",
              "510  Requesting invoice to be sent monthly instead ...       Othr       1510   \n",
              "511            Dark mode toggled but UI stays light. 😡       Tech       1511   \n",
              "512       Do you offer discounts for students or NGOs?     Other        1512   \n",
              "513        Live chat widget not loading on homepage. 😡  TECHNICAL       1513   \n",
              "514                Refund not received after 7 days. 😡   Billing        1514   \n",
              "515  Currency converted incorrectly; expected USD. ...     Billng       1515   \n",
              "516          Can't verify phone number; code not sent.    ACCOUNT       1516   \n",
              "517              Dark mode toggled but UI stays light.       Tech       1517   \n",
              "518  Search results page is blank after entering a ...       Tech       1518   \n",
              "519  Payment failed during checkout with card endin...     Billng       1519   \n",
              "\n",
              "    agent_name  \n",
              "510        Bob  \n",
              "511       Dana  \n",
              "512    Charlie  \n",
              "513      Alice  \n",
              "514      Alice  \n",
              "515    Charlie  \n",
              "516      Alice  \n",
              "517    Charlie  \n",
              "518       Dana  \n",
              "519      Alice  "
            ]
          },
          "execution_count": 37,
          "metadata": {},
          "output_type": "execute_result"
        }
      ],
      "source": [
        "# display last 10 rows\n",
        "df.tail(10)"
      ]
    },
    {
      "cell_type": "markdown",
      "metadata": {},
      "source": [
        "# Checking the unique values of label to help detect any error"
      ]
    },
    {
      "cell_type": "code",
      "execution_count": null,
      "metadata": {},
      "outputs": [
        {
          "data": {
            "text/plain": [
              "array(['Othr', 'billing', 'other', 'Tech-support', 'account', 'technical',\n",
              "       'Accnt', 'OTHER', 'TECHNICAL', 'ACCOUNT', 'BILLING', 'Other ', nan,\n",
              "       'Billng', 'Billing ', ' Account ', ' Tech'], dtype=object)"
            ]
          },
          "execution_count": 38,
          "metadata": {},
          "output_type": "execute_result"
        }
      ],
      "source": [
        "df.label.unique()"
      ]
    },
    {
      "cell_type": "markdown",
      "metadata": {
        "id": "P551CvWmvumK"
      },
      "source": [
        "Our dataset is messy due to missing, inconsistent labels, unwanted information, funny characters and emojis . Cleaning it ensures that the final data is complete, consistent, and ready for accurate analysis or modeling."
      ]
    },
    {
      "cell_type": "markdown",
      "metadata": {
        "id": "Wujvcaj5xsud"
      },
      "source": [
        "## Data cleaning"
      ]
    },
    {
      "cell_type": "code",
      "execution_count": 39,
      "metadata": {
        "colab": {
          "base_uri": "https://localhost:8080/"
        },
        "id": "yy6uKFaF1w6A",
        "outputId": "db72b41c-78b5-4ec6-d410-aeb8208ac905"
      },
      "outputs": [
        {
          "name": "stdout",
          "output_type": "stream",
          "text": [
            "Loaded C:\\Users\\ankom\\Thrive_Internship_ML_A\\customer_support_tickets_dirty.csv — rows: 520, columns: ['text', 'label', 'ticket_id', 'agent_name']\n",
            "✅ '12345' occurrences removed: True\n",
            "✅ 'br' occurrences removed: True\n",
            "\n",
            "✅ Saved cleaned CSV to: customer_support_tickets_clean_500.csv\n",
            "                                                     text     label  ticket_id agent_name\n",
            "          Where can I find API rate limits documentation?     Other       1000       Dana\n",
            "                       Can I migrate data from Freshdesk?     Other       1001        Bob\n",
            "      Cannot update billing address page keeps reloading.   Billing       1002    Charlie\n",
            "      Looking for a product roadmap or upcoming features.     Other       1003       Dana\n",
            "                    Dark mode toggled but UI stays light. Technical       1004      Alice\n",
            "             Promo code SPRING15 not applied at checkout.   Billing       1005      Alice\n",
            "   Incorrect role assigned need admin access for my team.   Account       1006       Dana\n",
            "             File export to CSV generates corrupted file. Technical       1007       Dana\n",
            "                  Overcharged by GHS 120 on my last bill.   Billing       1008       Dana\n",
            "                                                  unknown   Account       1009       Dana\n",
            "     Username amina already taken but its my old account.   Account       1010        Bob\n",
            "          Please provide onboarding training for my team.     Other       1011    Charlie\n",
            "               Integration with Slack fails with timeout. Technical       1012    Charlie\n",
            "Need to change email from old@mail.com to me@company.com.   Account       1013        Bob\n",
            "      Cannot update billing address page keeps reloading.   Billing       1014    Charlie\n"
          ]
        }
      ],
      "source": [
        "import pandas as pd\n",
        "import re\n",
        "import os\n",
        "\n",
        "#  Configuring the path\n",
        "# Use the DATA_PATH variable defined in the previous cells\n",
        "file_path = DATA_PATH\n",
        "\n",
        "\n",
        "#  Loading the data\n",
        "try:\n",
        "    df = pd.read_csv(file_path)\n",
        "except FileNotFoundError:\n",
        "    raise FileNotFoundError(f\"Could not find the CSV. Tried: {file_path}. Update file_path and try again.\")\n",
        "\n",
        "print(f\"Loaded {file_path} — rows: {len(df)}, columns: {list(df.columns)}\")\n",
        "\n",
        "# Function to clean text (preserve case)\n",
        "def clean_text_preserve_case(text):\n",
        "    \"\"\"\n",
        "    Cleans text by:\n",
        "    - Removing standalone '12345' and standalone 'br' words\n",
        "    - Preserving case\n",
        "    - Keeping digits, spaces, ., ?, @, $\n",
        "    - Removing other unwanted special characters\n",
        "    - Normalizing extra spaces\n",
        "    \"\"\"\n",
        "    if not isinstance(text, str):\n",
        "        return text\n",
        "\n",
        "    # Remove standalone '12345'\n",
        "    text = re.sub(r'(?<!\\d)12345(?!\\d)', '', text)\n",
        "\n",
        "    # Remove standalone 'br' (case-insensitive)\n",
        "    text = re.sub(r'\\bbr\\b', '', text, flags=re.IGNORECASE)\n",
        "\n",
        "    # Remove unwanted characters but KEEP @ and $\n",
        "    text = re.sub(r'[^A-Za-z0-9\\s\\.\\?\\@\\$\\-]', '', text)\n",
        "\n",
        "    # Remove spaces before punctuation\n",
        "    text = re.sub(r'\\s+([.?])', r'\\1', text)\n",
        "\n",
        "    # Collapse multiple spaces\n",
        "    text = re.sub(r'\\s+', ' ', text).strip()\n",
        "\n",
        "    return text\n",
        "\n",
        "# Label corrections\n",
        "label_corrections = {\n",
        "    'othr': 'Other',\n",
        "    'tech-support': 'Technical',\n",
        "    'technical-support': 'Technical',\n",
        "     'TECHNICAL': 'Technical',\n",
        "    'billng': 'Billing',\n",
        "    'BILLING': 'Billing',\n",
        "    'accnt': 'Account',\n",
        "    'account': 'Account',\n",
        "    'Account': 'Account',\n",
        "    'other': 'Other',\n",
        "    'tech': 'Technical'\n",
        "}\n",
        "\n",
        "def correct_labels(text):\n",
        "    \"\"\"Apply label corrections case-insensitively.\"\"\"\n",
        "    if not isinstance(text, str):\n",
        "        return text\n",
        "    cleaned = text.strip()\n",
        "    for wrong, right in label_corrections.items():\n",
        "        cleaned = re.sub(rf'\\b{wrong}\\b', right, cleaned, flags=re.IGNORECASE)\n",
        "    return cleaned\n",
        "\n",
        "#  Identify text columns\n",
        "text_columns = [c for c in ['text', 'label', 'agent_name'] if c in df.columns]\n",
        "if not text_columns:\n",
        "    raise ValueError(\"None of the expected text columns ('text','label','agent_name') are present.\")\n",
        "\n",
        "#  Cleaning pipeline\n",
        "df = df.drop_duplicates(keep='first')\n",
        "df = df.fillna(\"unknown\")\n",
        "\n",
        "# Apply cleaning to text columns\n",
        "for col in text_columns:\n",
        "    df[col] = df[col].astype(str).apply(clean_text_preserve_case)\n",
        "\n",
        "# Apply corrections to the label column specifically\n",
        "if 'label' in df.columns:\n",
        "    df['label'] = df['label'].astype(str).apply(correct_labels)\n",
        "\n",
        "#  Diagnostics\n",
        "if 'text' in df.columns:\n",
        "    after_count_12345 = df['text'].astype(str).str.contains(r'\\b12345\\b', regex=True, na=False).sum()\n",
        "    after_count_br = df['text'].astype(str).str.contains(r'\\bbr\\b', regex=True, na=False).sum()\n",
        "    print(f\"✅ '12345' occurrences removed: {after_count_12345 == 0}\")\n",
        "    print(f\"✅ 'br' occurrences removed: {after_count_br == 0}\")\n",
        "\n",
        "#  Save cleaned file\n",
        "out_path = \"customer_support_tickets_clean_500.csv\"\n",
        "df.to_csv(out_path, index=False)\n",
        "print(f\"\\n✅ Saved cleaned CSV to: {out_path}\")\n",
        "print(df.head(15).to_string(index=False))"
      ]
    },
    {
      "cell_type": "code",
      "execution_count": 40,
      "metadata": {
        "colab": {
          "base_uri": "https://localhost:8080/",
          "height": 450
        },
        "id": "28lJkmg04w7o",
        "outputId": "0e2969dc-c4e7-46e5-9b9d-dfcb9cf61605"
      },
      "outputs": [
        {
          "data": {
            "text/html": [
              "<div>\n",
              "<style scoped>\n",
              "    .dataframe tbody tr th:only-of-type {\n",
              "        vertical-align: middle;\n",
              "    }\n",
              "\n",
              "    .dataframe tbody tr th {\n",
              "        vertical-align: top;\n",
              "    }\n",
              "\n",
              "    .dataframe thead th {\n",
              "        text-align: right;\n",
              "    }\n",
              "</style>\n",
              "<table border=\"1\" class=\"dataframe\">\n",
              "  <thead>\n",
              "    <tr style=\"text-align: right;\">\n",
              "      <th></th>\n",
              "      <th>text</th>\n",
              "      <th>label</th>\n",
              "      <th>ticket_id</th>\n",
              "      <th>agent_name</th>\n",
              "    </tr>\n",
              "  </thead>\n",
              "  <tbody>\n",
              "    <tr>\n",
              "      <th>0</th>\n",
              "      <td>Where can I find API rate limits documentation?</td>\n",
              "      <td>Other</td>\n",
              "      <td>1000</td>\n",
              "      <td>Dana</td>\n",
              "    </tr>\n",
              "    <tr>\n",
              "      <th>1</th>\n",
              "      <td>Can I migrate data from Freshdesk?</td>\n",
              "      <td>Other</td>\n",
              "      <td>1001</td>\n",
              "      <td>Bob</td>\n",
              "    </tr>\n",
              "    <tr>\n",
              "      <th>2</th>\n",
              "      <td>Cannot update billing address page keeps reloa...</td>\n",
              "      <td>Billing</td>\n",
              "      <td>1002</td>\n",
              "      <td>Charlie</td>\n",
              "    </tr>\n",
              "    <tr>\n",
              "      <th>3</th>\n",
              "      <td>Looking for a product roadmap or upcoming feat...</td>\n",
              "      <td>Other</td>\n",
              "      <td>1003</td>\n",
              "      <td>Dana</td>\n",
              "    </tr>\n",
              "    <tr>\n",
              "      <th>4</th>\n",
              "      <td>Dark mode toggled but UI stays light.</td>\n",
              "      <td>Technical</td>\n",
              "      <td>1004</td>\n",
              "      <td>Alice</td>\n",
              "    </tr>\n",
              "    <tr>\n",
              "      <th>5</th>\n",
              "      <td>Promo code SPRING15 not applied at checkout.</td>\n",
              "      <td>Billing</td>\n",
              "      <td>1005</td>\n",
              "      <td>Alice</td>\n",
              "    </tr>\n",
              "    <tr>\n",
              "      <th>6</th>\n",
              "      <td>Incorrect role assigned need admin access for ...</td>\n",
              "      <td>Account</td>\n",
              "      <td>1006</td>\n",
              "      <td>Dana</td>\n",
              "    </tr>\n",
              "    <tr>\n",
              "      <th>7</th>\n",
              "      <td>File export to CSV generates corrupted file.</td>\n",
              "      <td>Technical</td>\n",
              "      <td>1007</td>\n",
              "      <td>Dana</td>\n",
              "    </tr>\n",
              "    <tr>\n",
              "      <th>8</th>\n",
              "      <td>Overcharged by GHS 120 on my last bill.</td>\n",
              "      <td>Billing</td>\n",
              "      <td>1008</td>\n",
              "      <td>Dana</td>\n",
              "    </tr>\n",
              "    <tr>\n",
              "      <th>9</th>\n",
              "      <td>unknown</td>\n",
              "      <td>Account</td>\n",
              "      <td>1009</td>\n",
              "      <td>Dana</td>\n",
              "    </tr>\n",
              "  </tbody>\n",
              "</table>\n",
              "</div>"
            ],
            "text/plain": [
              "                                                text      label  ticket_id  \\\n",
              "0    Where can I find API rate limits documentation?      Other       1000   \n",
              "1                 Can I migrate data from Freshdesk?      Other       1001   \n",
              "2  Cannot update billing address page keeps reloa...    Billing       1002   \n",
              "3  Looking for a product roadmap or upcoming feat...      Other       1003   \n",
              "4              Dark mode toggled but UI stays light.  Technical       1004   \n",
              "5       Promo code SPRING15 not applied at checkout.    Billing       1005   \n",
              "6  Incorrect role assigned need admin access for ...    Account       1006   \n",
              "7       File export to CSV generates corrupted file.  Technical       1007   \n",
              "8            Overcharged by GHS 120 on my last bill.    Billing       1008   \n",
              "9                                            unknown    Account       1009   \n",
              "\n",
              "  agent_name  \n",
              "0       Dana  \n",
              "1        Bob  \n",
              "2    Charlie  \n",
              "3       Dana  \n",
              "4      Alice  \n",
              "5      Alice  \n",
              "6       Dana  \n",
              "7       Dana  \n",
              "8       Dana  \n",
              "9       Dana  "
            ]
          },
          "execution_count": 40,
          "metadata": {},
          "output_type": "execute_result"
        }
      ],
      "source": [
        "# display last 10 rows\n",
        "df.head(10)"
      ]
    },
    {
      "cell_type": "markdown",
      "metadata": {},
      "source": [
        "Now, we will recheck how clean our first 10 and last 10 row look."
      ]
    },
    {
      "cell_type": "code",
      "execution_count": 41,
      "metadata": {
        "colab": {
          "base_uri": "https://localhost:8080/",
          "height": 467
        },
        "id": "FWw1KD796qs8",
        "outputId": "ae48df99-2c03-4302-96d1-edede1361d9d"
      },
      "outputs": [
        {
          "data": {
            "text/html": [
              "<div>\n",
              "<style scoped>\n",
              "    .dataframe tbody tr th:only-of-type {\n",
              "        vertical-align: middle;\n",
              "    }\n",
              "\n",
              "    .dataframe tbody tr th {\n",
              "        vertical-align: top;\n",
              "    }\n",
              "\n",
              "    .dataframe thead th {\n",
              "        text-align: right;\n",
              "    }\n",
              "</style>\n",
              "<table border=\"1\" class=\"dataframe\">\n",
              "  <thead>\n",
              "    <tr style=\"text-align: right;\">\n",
              "      <th></th>\n",
              "      <th>text</th>\n",
              "      <th>label</th>\n",
              "      <th>ticket_id</th>\n",
              "      <th>agent_name</th>\n",
              "    </tr>\n",
              "  </thead>\n",
              "  <tbody>\n",
              "    <tr>\n",
              "      <th>510</th>\n",
              "      <td>Requesting invoice to be sent monthly instead ...</td>\n",
              "      <td>Other</td>\n",
              "      <td>1510</td>\n",
              "      <td>Bob</td>\n",
              "    </tr>\n",
              "    <tr>\n",
              "      <th>511</th>\n",
              "      <td>Dark mode toggled but UI stays light.</td>\n",
              "      <td>Technical</td>\n",
              "      <td>1511</td>\n",
              "      <td>Dana</td>\n",
              "    </tr>\n",
              "    <tr>\n",
              "      <th>512</th>\n",
              "      <td>Do you offer discounts for students or NGOs?</td>\n",
              "      <td>Other</td>\n",
              "      <td>1512</td>\n",
              "      <td>Charlie</td>\n",
              "    </tr>\n",
              "    <tr>\n",
              "      <th>513</th>\n",
              "      <td>Live chat widget not loading on homepage.</td>\n",
              "      <td>Technical</td>\n",
              "      <td>1513</td>\n",
              "      <td>Alice</td>\n",
              "    </tr>\n",
              "    <tr>\n",
              "      <th>514</th>\n",
              "      <td>Refund not received after 7 days.</td>\n",
              "      <td>Billing</td>\n",
              "      <td>1514</td>\n",
              "      <td>Alice</td>\n",
              "    </tr>\n",
              "    <tr>\n",
              "      <th>515</th>\n",
              "      <td>Currency converted incorrectly expected USD.</td>\n",
              "      <td>Billing</td>\n",
              "      <td>1515</td>\n",
              "      <td>Charlie</td>\n",
              "    </tr>\n",
              "    <tr>\n",
              "      <th>516</th>\n",
              "      <td>Cant verify phone number code not sent.</td>\n",
              "      <td>Account</td>\n",
              "      <td>1516</td>\n",
              "      <td>Alice</td>\n",
              "    </tr>\n",
              "    <tr>\n",
              "      <th>517</th>\n",
              "      <td>Dark mode toggled but UI stays light.</td>\n",
              "      <td>Technical</td>\n",
              "      <td>1517</td>\n",
              "      <td>Charlie</td>\n",
              "    </tr>\n",
              "    <tr>\n",
              "      <th>518</th>\n",
              "      <td>Search results page is blank after entering a ...</td>\n",
              "      <td>Technical</td>\n",
              "      <td>1518</td>\n",
              "      <td>Dana</td>\n",
              "    </tr>\n",
              "    <tr>\n",
              "      <th>519</th>\n",
              "      <td>Payment failed during checkout with card endin...</td>\n",
              "      <td>Billing</td>\n",
              "      <td>1519</td>\n",
              "      <td>Alice</td>\n",
              "    </tr>\n",
              "  </tbody>\n",
              "</table>\n",
              "</div>"
            ],
            "text/plain": [
              "                                                  text      label  ticket_id  \\\n",
              "510  Requesting invoice to be sent monthly instead ...      Other       1510   \n",
              "511              Dark mode toggled but UI stays light.  Technical       1511   \n",
              "512       Do you offer discounts for students or NGOs?      Other       1512   \n",
              "513          Live chat widget not loading on homepage.  Technical       1513   \n",
              "514                  Refund not received after 7 days.    Billing       1514   \n",
              "515       Currency converted incorrectly expected USD.    Billing       1515   \n",
              "516            Cant verify phone number code not sent.    Account       1516   \n",
              "517              Dark mode toggled but UI stays light.  Technical       1517   \n",
              "518  Search results page is blank after entering a ...  Technical       1518   \n",
              "519  Payment failed during checkout with card endin...    Billing       1519   \n",
              "\n",
              "    agent_name  \n",
              "510        Bob  \n",
              "511       Dana  \n",
              "512    Charlie  \n",
              "513      Alice  \n",
              "514      Alice  \n",
              "515    Charlie  \n",
              "516      Alice  \n",
              "517    Charlie  \n",
              "518       Dana  \n",
              "519      Alice  "
            ]
          },
          "execution_count": 41,
          "metadata": {},
          "output_type": "execute_result"
        }
      ],
      "source": [
        "# display last 10 rows\n",
        "df.tail(10)"
      ]
    },
    {
      "cell_type": "markdown",
      "metadata": {},
      "source": [
        "Finally, the next line of code rechecks for missing data."
      ]
    },
    {
      "cell_type": "code",
      "execution_count": 42,
      "metadata": {
        "colab": {
          "base_uri": "https://localhost:8080/"
        },
        "id": "wj1RspoUzj0z",
        "outputId": "4da4d207-aaa6-4abe-e100-a299fd39eed3"
      },
      "outputs": [
        {
          "name": "stdout",
          "output_type": "stream",
          "text": [
            "Columns: ['text', 'label', 'ticket_id', 'agent_name']\n",
            "\n",
            "Info:\n",
            "<class 'pandas.core.frame.DataFrame'>\n",
            "RangeIndex: 520 entries, 0 to 519\n",
            "Data columns (total 4 columns):\n",
            " #   Column      Non-Null Count  Dtype \n",
            "---  ------      --------------  ----- \n",
            " 0   text        520 non-null    object\n",
            " 1   label       520 non-null    object\n",
            " 2   ticket_id   520 non-null    int64 \n",
            " 3   agent_name  520 non-null    object\n",
            "dtypes: int64(1), object(3)\n",
            "memory usage: 16.4+ KB\n",
            "None\n",
            "\n",
            "Missing values per column:\n",
            "text          0\n",
            "label         0\n",
            "ticket_id     0\n",
            "agent_name    0\n",
            "dtype: int64\n"
          ]
        }
      ],
      "source": [
        "# Rechecking for missing data\n",
        "\n",
        "print(\"Columns:\", df.columns.tolist())\n",
        "print(\"\\nInfo:\")\n",
        "print(df.info())\n",
        "\n",
        "print(\"\\nMissing values per column:\")\n",
        "print(df.isna().sum())"
      ]
    },
    {
      "cell_type": "markdown",
      "metadata": {},
      "source": [
        "So dataset is soo clean."
      ]
    }
  ],
  "metadata": {
    "colab": {
      "provenance": []
    },
    "kernelspec": {
      "display_name": "Python 3",
      "name": "python3"
    },
    "language_info": {
      "codemirror_mode": {
        "name": "ipython",
        "version": 3
      },
      "file_extension": ".py",
      "mimetype": "text/x-python",
      "name": "python",
      "nbconvert_exporter": "python",
      "pygments_lexer": "ipython3",
      "version": "3.13.7"
    }
  },
  "nbformat": 4,
  "nbformat_minor": 0
}
