{
 "cells": [
  {
   "cell_type": "markdown",
   "id": "70b1c290",
   "metadata": {},
   "source": [
    "\n",
    "# 🧪 Customer Support Classifier — Dataset Exploration (Week 1)\n",
    "\n",
    "**Goal:** Quick, reproducible exploration of the `customer_support_tickets_clean_500.csv` dataset.\n",
    "\n",
    "**What you'll do in this notebook:**\n",
    "1. Load the dataset from `data/`\n",
    "2. Inspect schema & basic stats\n",
    "3. Check class distribution\n",
    "4. Preview random samples per class\n",
    "5. Look at text length distribution\n",
    "6. (Optional) Quick train/test split sanity check\n",
    "\n",
    "> Run this notebook in Google Colab or locally inside the repo.\n"
   ]
  },
  {
   "cell_type": "code",
   "execution_count": 2,
   "id": "24272978",
   "metadata": {},
   "outputs": [],
   "source": [
    "\n",
    "import os\n",
    "import pandas as pd\n",
    "import numpy as np\n",
    "import matplotlib.pyplot as plt\n",
    "from collections import Counter\n",
    "from sklearn.model_selection import train_test_split\n",
    "\n",
    "# Ensure plots show inline\n",
    "%matplotlib inline\n"
   ]
  },
  {
   "cell_type": "code",
   "execution_count": null,
   "id": "6d4378a2",
   "metadata": {},
   "outputs": [],
   "source": []
  },
  {
   "cell_type": "code",
   "execution_count": 3,
   "id": "f909d479",
   "metadata": {},
   "outputs": [],
   "source": [
    "\n",
    "# === Config ===\n",
    "DATA_PATH = \"data/customer_support_tickets_clean_500.csv\"  # adjust if needed\n",
    "RANDOM_SEED = 42\n",
    "\n",
    "# Reproducibility\n",
    "np.random.seed(RANDOM_SEED)\n"
   ]
  },
  {
   "cell_type": "code",
   "execution_count": 5,
   "id": "90051d16",
   "metadata": {},
   "outputs": [
    {
     "name": "stdout",
     "output_type": "stream",
     "text": [
      "✅ Loaded dataset.\n",
      "Shape: (520, 4)\n"
     ]
    },
    {
     "data": {
      "application/vnd.microsoft.datawrangler.viewer.v0+json": {
       "columns": [
        {
         "name": "index",
         "rawType": "int64",
         "type": "integer"
        },
        {
         "name": "text",
         "rawType": "object",
         "type": "string"
        },
        {
         "name": "label",
         "rawType": "object",
         "type": "string"
        },
        {
         "name": "ticket_id",
         "rawType": "int64",
         "type": "integer"
        },
        {
         "name": "agent_name",
         "rawType": "object",
         "type": "string"
        }
       ],
       "ref": "f36c541f-095c-482c-be23-335f7f39f5c1",
       "rows": [
        [
         "0",
         "Where can I find API rate limits documentation?",
         "Othr",
         "1000",
         "Dana"
        ],
        [
         "1",
         "Can I migrate data from Freshdesk?",
         "Othr",
         "1001",
         "Bob"
        ],
        [
         "2",
         "Cannot update billing address; page keeps reloading.",
         "billing",
         "1002",
         "Charlie"
        ],
        [
         "3",
         "Looking for a product roadmap or upcoming features.",
         "other",
         "1003",
         "Dana"
        ],
        [
         "4",
         "Dark mode toggled but UI stays light.",
         "Tech-support",
         "1004",
         "Alice"
        ]
       ],
       "shape": {
        "columns": 4,
        "rows": 5
       }
      },
      "text/html": [
       "<div>\n",
       "<style scoped>\n",
       "    .dataframe tbody tr th:only-of-type {\n",
       "        vertical-align: middle;\n",
       "    }\n",
       "\n",
       "    .dataframe tbody tr th {\n",
       "        vertical-align: top;\n",
       "    }\n",
       "\n",
       "    .dataframe thead th {\n",
       "        text-align: right;\n",
       "    }\n",
       "</style>\n",
       "<table border=\"1\" class=\"dataframe\">\n",
       "  <thead>\n",
       "    <tr style=\"text-align: right;\">\n",
       "      <th></th>\n",
       "      <th>text</th>\n",
       "      <th>label</th>\n",
       "      <th>ticket_id</th>\n",
       "      <th>agent_name</th>\n",
       "    </tr>\n",
       "  </thead>\n",
       "  <tbody>\n",
       "    <tr>\n",
       "      <th>0</th>\n",
       "      <td>Where can I find API rate limits documentation?</td>\n",
       "      <td>Othr</td>\n",
       "      <td>1000</td>\n",
       "      <td>Dana</td>\n",
       "    </tr>\n",
       "    <tr>\n",
       "      <th>1</th>\n",
       "      <td>Can I migrate data from Freshdesk?</td>\n",
       "      <td>Othr</td>\n",
       "      <td>1001</td>\n",
       "      <td>Bob</td>\n",
       "    </tr>\n",
       "    <tr>\n",
       "      <th>2</th>\n",
       "      <td>Cannot update billing address; page keeps relo...</td>\n",
       "      <td>billing</td>\n",
       "      <td>1002</td>\n",
       "      <td>Charlie</td>\n",
       "    </tr>\n",
       "    <tr>\n",
       "      <th>3</th>\n",
       "      <td>Looking for a product roadmap or upcoming feat...</td>\n",
       "      <td>other</td>\n",
       "      <td>1003</td>\n",
       "      <td>Dana</td>\n",
       "    </tr>\n",
       "    <tr>\n",
       "      <th>4</th>\n",
       "      <td>Dark mode toggled but UI stays light.</td>\n",
       "      <td>Tech-support</td>\n",
       "      <td>1004</td>\n",
       "      <td>Alice</td>\n",
       "    </tr>\n",
       "  </tbody>\n",
       "</table>\n",
       "</div>"
      ],
      "text/plain": [
       "                                                text         label  ticket_id  \\\n",
       "0    Where can I find API rate limits documentation?          Othr       1000   \n",
       "1                 Can I migrate data from Freshdesk?          Othr       1001   \n",
       "2  Cannot update billing address; page keeps relo...       billing       1002   \n",
       "3  Looking for a product roadmap or upcoming feat...         other       1003   \n",
       "4              Dark mode toggled but UI stays light.  Tech-support       1004   \n",
       "\n",
       "  agent_name  \n",
       "0       Dana  \n",
       "1        Bob  \n",
       "2    Charlie  \n",
       "3       Dana  \n",
       "4      Alice  "
      ]
     },
     "execution_count": 5,
     "metadata": {},
     "output_type": "execute_result"
    }
   ],
   "source": [
    "\n",
    "assert os.path.exists(DATA_PATH), f\"Could not find file at {DATA_PATH}. Make sure the CSV is in the data/ folder.\"\n",
    "df = pd.read_csv(DATA_PATH)\n",
    "\n",
    "print(\"✅ Loaded dataset.\")\n",
    "print(\"Shape:\", df.shape)\n",
    "df.head()\n"
   ]
  },
  {
   "cell_type": "code",
   "execution_count": 6,
   "id": "2ef2b7b1",
   "metadata": {},
   "outputs": [
    {
     "name": "stdout",
     "output_type": "stream",
     "text": [
      "Columns: ['text', 'label', 'ticket_id', 'agent_name']\n",
      "\n",
      "Info:\n",
      "<class 'pandas.core.frame.DataFrame'>\n",
      "RangeIndex: 520 entries, 0 to 519\n",
      "Data columns (total 4 columns):\n",
      " #   Column      Non-Null Count  Dtype \n",
      "---  ------      --------------  ----- \n",
      " 0   text        495 non-null    object\n",
      " 1   label       495 non-null    object\n",
      " 2   ticket_id   520 non-null    int64 \n",
      " 3   agent_name  520 non-null    object\n",
      "dtypes: int64(1), object(3)\n",
      "memory usage: 16.4+ KB\n",
      "None\n",
      "\n",
      "Missing values per column:\n",
      "text          25\n",
      "label         25\n",
      "ticket_id      0\n",
      "agent_name     0\n",
      "dtype: int64\n"
     ]
    }
   ],
   "source": [
    "\n",
    "print(\"Columns:\", df.columns.tolist())\n",
    "print(\"\\nInfo:\")\n",
    "print(df.info())\n",
    "\n",
    "print(\"\\nMissing values per column:\")\n",
    "print(df.isna().sum())\n"
   ]
  },
  {
   "cell_type": "code",
   "execution_count": 7,
   "id": "f1455d28",
   "metadata": {},
   "outputs": [
    {
     "name": "stdout",
     "output_type": "stream",
     "text": [
      "Using columns: text -> True , label -> True\n"
     ]
    },
    {
     "data": {
      "application/vnd.microsoft.datawrangler.viewer.v0+json": {
       "columns": [
        {
         "name": "index",
         "rawType": "int64",
         "type": "integer"
        },
        {
         "name": "text",
         "rawType": "object",
         "type": "string"
        },
        {
         "name": "label",
         "rawType": "object",
         "type": "string"
        },
        {
         "name": "ticket_id",
         "rawType": "int64",
         "type": "integer"
        },
        {
         "name": "agent_name",
         "rawType": "object",
         "type": "string"
        }
       ],
       "ref": "4d47f967-61f2-4d4b-9209-2e62f79e79b2",
       "rows": [
        [
         "0",
         "Where can I find API rate limits documentation?",
         "Othr",
         "1000",
         "Dana"
        ],
        [
         "1",
         "Can I migrate data from Freshdesk?",
         "Othr",
         "1001",
         "Bob"
        ],
        [
         "2",
         "Cannot update billing address; page keeps reloading.",
         "billing",
         "1002",
         "Charlie"
        ]
       ],
       "shape": {
        "columns": 4,
        "rows": 3
       }
      },
      "text/html": [
       "<div>\n",
       "<style scoped>\n",
       "    .dataframe tbody tr th:only-of-type {\n",
       "        vertical-align: middle;\n",
       "    }\n",
       "\n",
       "    .dataframe tbody tr th {\n",
       "        vertical-align: top;\n",
       "    }\n",
       "\n",
       "    .dataframe thead th {\n",
       "        text-align: right;\n",
       "    }\n",
       "</style>\n",
       "<table border=\"1\" class=\"dataframe\">\n",
       "  <thead>\n",
       "    <tr style=\"text-align: right;\">\n",
       "      <th></th>\n",
       "      <th>text</th>\n",
       "      <th>label</th>\n",
       "      <th>ticket_id</th>\n",
       "      <th>agent_name</th>\n",
       "    </tr>\n",
       "  </thead>\n",
       "  <tbody>\n",
       "    <tr>\n",
       "      <th>0</th>\n",
       "      <td>Where can I find API rate limits documentation?</td>\n",
       "      <td>Othr</td>\n",
       "      <td>1000</td>\n",
       "      <td>Dana</td>\n",
       "    </tr>\n",
       "    <tr>\n",
       "      <th>1</th>\n",
       "      <td>Can I migrate data from Freshdesk?</td>\n",
       "      <td>Othr</td>\n",
       "      <td>1001</td>\n",
       "      <td>Bob</td>\n",
       "    </tr>\n",
       "    <tr>\n",
       "      <th>2</th>\n",
       "      <td>Cannot update billing address; page keeps relo...</td>\n",
       "      <td>billing</td>\n",
       "      <td>1002</td>\n",
       "      <td>Charlie</td>\n",
       "    </tr>\n",
       "  </tbody>\n",
       "</table>\n",
       "</div>"
      ],
      "text/plain": [
       "                                                text    label  ticket_id  \\\n",
       "0    Where can I find API rate limits documentation?     Othr       1000   \n",
       "1                 Can I migrate data from Freshdesk?     Othr       1001   \n",
       "2  Cannot update billing address; page keeps relo...  billing       1002   \n",
       "\n",
       "  agent_name  \n",
       "0       Dana  \n",
       "1        Bob  \n",
       "2    Charlie  "
      ]
     },
     "metadata": {},
     "output_type": "display_data"
    }
   ],
   "source": [
    "\n",
    "# Try to normalize expected columns if they exist with different names\n",
    "# Expected: 'text' and 'label'\n",
    "candidate_text_cols = [c for c in df.columns if c.lower() in [\"text\", \"ticket_text\", \"message\", \"body\"]]\n",
    "candidate_label_cols = [c for c in df.columns if c.lower() in [\"label\", \"category\", \"class\"]]\n",
    "\n",
    "if candidate_text_cols and \"text\" not in df.columns:\n",
    "    df = df.rename(columns={candidate_text_cols[0]: \"text\"})\n",
    "if candidate_label_cols and \"label\" not in df.columns:\n",
    "    df = df.rename(columns={candidate_label_cols[0]: \"label\"})\n",
    "\n",
    "print(\"Using columns: text ->\", \"text\" in df.columns, \", label ->\", \"label\" in df.columns)\n",
    "display(df.head(3))\n"
   ]
  },
  {
   "cell_type": "code",
   "execution_count": 8,
   "id": "81dc42c4",
   "metadata": {},
   "outputs": [
    {
     "name": "stdout",
     "output_type": "stream",
     "text": [
      "Class distribution:\n",
      "label\n",
      " Account        22\n",
      " Tech           41\n",
      "ACCOUNT         37\n",
      "Accnt           42\n",
      "BILLING         25\n",
      "Billing         34\n",
      "Billng          35\n",
      "OTHER           28\n",
      "Other           33\n",
      "Othr            35\n",
      "TECHNICAL       31\n",
      "Tech-support    21\n",
      "account         21\n",
      "billing         26\n",
      "other           32\n",
      "technical       32\n",
      "Name: count, dtype: int64\n"
     ]
    },
    {
     "data": {
      "image/png": "[encoded data removed]",
      "text/plain": [
       "<Figure size 640x480 with 1 Axes>"
      ]
     },
     "metadata": {},
     "output_type": "display_data"
    }
   ],
   "source": [
    "\n",
    "if \"label\" in df.columns:\n",
    "    counts = df[\"label\"].value_counts().sort_index()\n",
    "    print(\"Class distribution:\")\n",
    "    print(counts)\n",
    "\n",
    "    # Plot class distribution\n",
    "    plt.figure()\n",
    "    counts.plot(kind=\"bar\")\n",
    "    plt.title(\"Class Distribution\")\n",
    "    plt.xlabel(\"Label\")\n",
    "    plt.ylabel(\"Count\")\n",
    "    plt.show()\n",
    "else:\n",
    "    print(\"No 'label' column found; please ensure your CSV has a label/category column.\")\n"
   ]
  },
  {
   "cell_type": "code",
   "execution_count": 9,
   "id": "62d1687c",
   "metadata": {},
   "outputs": [
    {
     "name": "stdout",
     "output_type": "stream",
     "text": [
      "Text length (words) — summary stats:\n",
      "count    520.000000\n",
      "mean       7.190385\n",
      "std        1.780948\n",
      "min        1.000000\n",
      "25%        7.000000\n",
      "50%        7.000000\n",
      "75%        8.000000\n",
      "max       11.000000\n",
      "Name: text, dtype: float64\n"
     ]
    },
    {
     "data": {
      "image/png": "[encoded data removed]",
      "text/plain": [
       "<Figure size 640x480 with 1 Axes>"
      ]
     },
     "metadata": {},
     "output_type": "display_data"
    }
   ],
   "source": [
    "\n",
    "if \"text\" in df.columns:\n",
    "    text_lengths = df[\"text\"].astype(str).apply(lambda x: len(x.split()))\n",
    "    print(\"Text length (words) — summary stats:\")\n",
    "    print(text_lengths.describe())\n",
    "\n",
    "    plt.figure()\n",
    "    text_lengths.hist(bins=30)\n",
    "    plt.title(\"Text Length Distribution (by words)\")\n",
    "    plt.xlabel(\"Words per ticket\")\n",
    "    plt.ylabel(\"Frequency\")\n",
    "    plt.show()\n",
    "else:\n",
    "    print(\"No 'text' column found; please ensure your CSV has a text column.\")\n"
   ]
  },
  {
   "cell_type": "code",
   "execution_count": 10,
   "id": "df413ca4",
   "metadata": {},
   "outputs": [
    {
     "data": {
      "application/vnd.microsoft.datawrangler.viewer.v0+json": {
       "columns": [
        {
         "name": "index",
         "rawType": "int64",
         "type": "integer"
        },
        {
         "name": "sample_of",
         "rawType": "object",
         "type": "string"
        },
        {
         "name": "text",
         "rawType": "object",
         "type": "unknown"
        },
        {
         "name": "label",
         "rawType": "object",
         "type": "string"
        }
       ],
       "ref": "22285ced-3387-48aa-8e8c-b73ec9cf3bbe",
       "rows": [
        [
         "0",
         " Account ",
         "Incorrect role assigned; need admin access for my team.",
         " Account "
        ],
        [
         "1",
         " Account ",
         "Cannot enable two-factor authentication; QR fails to scan.",
         " Account "
        ],
        [
         "2",
         " Account ",
         "How do I delete my account and all data?",
         " Account "
        ],
        [
         "3",
         " Tech",
         "File export to CSV generates corrupted file.",
         " Tech"
        ],
        [
         "4",
         " Tech",
         "Live chat widget not loading on homepage.",
         " Tech"
        ],
        [
         "5",
         " Tech",
         "Search results page is blank after entering a query.",
         " Tech"
        ],
        [
         "6",
         "ACCOUNT",
         "Can't verify phone number; code not sent.",
         "ACCOUNT"
        ],
        [
         "7",
         "ACCOUNT",
         "Locked out after too many login attempts. ###",
         "ACCOUNT"
        ],
        [
         "8",
         "ACCOUNT",
         "Profile picture upload fails with unknown error. !!!",
         "ACCOUNT"
        ],
        [
         "9",
         "Accnt",
         "Cannot enable two-factor authentication; QR fails to scan.",
         "Accnt"
        ],
        [
         "10",
         "Accnt",
         null,
         "Accnt"
        ],
        [
         "11",
         "Accnt",
         "Need to merge two accounts into one.",
         "Accnt"
        ],
        [
         "12",
         "BILLING",
         "Promo code BLACK50 not applied at checkout.",
         "BILLING"
        ],
        [
         "13",
         "BILLING",
         "Cannot update billing address; page keeps reloading.",
         "BILLING"
        ],
        [
         "14",
         "BILLING",
         "Cannot update billing address; page keeps reloading.",
         "BILLING"
        ],
        [
         "15",
         "Billing ",
         "Refund not received after 3 days.",
         "Billing "
        ],
        [
         "16",
         "Billing ",
         "Charged twice for the same order #92991.",
         "Billing "
        ],
        [
         "17",
         "Billing ",
         "Promo code BLACK50 not applied at checkout.",
         "Billing "
        ],
        [
         "18",
         "Billng",
         "Refund not received after 5 days.",
         "Billng"
        ],
        [
         "19",
         "Billng",
         "Invoice is missing VAT number.",
         "Billng"
        ],
        [
         "20",
         "Billng",
         "Payment failed during checkout with card ending 0099.",
         "Billng"
        ],
        [
         "21",
         "OTHER",
         "Can I migrate data from Excel?",
         "OTHER"
        ],
        [
         "22",
         "OTHER",
         "How can I request my data under GDPR? 12345",
         "OTHER"
        ],
        [
         "23",
         "OTHER",
         "Please provide onboarding training for my team.",
         "OTHER"
        ],
        [
         "24",
         "Other ",
         "When is the Pro pricing changing?",
         "Other "
        ],
        [
         "25",
         "Other ",
         "When is the Basic pricing changing?",
         "Other "
        ],
        [
         "26",
         "Other ",
         "How can I request my data under GDPR?",
         "Other "
        ],
        [
         "27",
         "Othr",
         "Is there a sandbox environment for testing?",
         "Othr"
        ],
        [
         "28",
         "Othr",
         "Please provide onboarding training for my team.",
         "Othr"
        ],
        [
         "29",
         "Othr",
         "Please provide onboarding training for my team.",
         "Othr"
        ],
        [
         "30",
         "TECHNICAL",
         "Website returns 500 error on /checkout.",
         "TECHNICAL"
        ],
        [
         "31",
         "TECHNICAL",
         "Two-factor prompt loops after successful code entry.",
         "TECHNICAL"
        ],
        [
         "32",
         "TECHNICAL",
         "Website returns 500 error on /checkout. <br>",
         "TECHNICAL"
        ],
        [
         "33",
         "Tech-support",
         "Dark mode toggled but UI stays light.",
         "Tech-support"
        ],
        [
         "34",
         "Tech-support",
         "Website returns 500 error on /orders.",
         "Tech-support"
        ],
        [
         "35",
         "Tech-support",
         "File export to CSV generates corrupted file.",
         "Tech-support"
        ],
        [
         "36",
         "account",
         "Incorrect role assigned; need admin access for my team.",
         "account"
        ],
        [
         "37",
         "account",
         "Forgot my password and reset link never arrives.",
         "account"
        ],
        [
         "38",
         "account",
         "How do I delete my account and all data?",
         "account"
        ],
        [
         "39",
         "billing",
         "Payment failed during checkout with card ending 7812.",
         "billing"
        ],
        [
         "40",
         "billing",
         "Cannot update billing address; page keeps reloading.",
         "billing"
        ],
        [
         "41",
         "billing",
         "Cannot update billing address; page keeps reloading.",
         "billing"
        ],
        [
         "42",
         "other",
         "Can I migrate data from Zendesk?",
         "other"
        ],
        [
         "43",
         "other",
         "How can I request my data under GDPR?",
         "other"
        ],
        [
         "44",
         "other",
         "Please provide onboarding training for my team.",
         "other"
        ],
        [
         "45",
         "technical",
         "Upload stuck at 99% for more than 10 minutes.",
         "technical"
        ],
        [
         "46",
         "technical",
         "Integration with Stripe fails with timeout. !!!",
         "technical"
        ],
        [
         "47",
         "technical",
         "Search results page is blank after entering a query.",
         "technical"
        ]
       ],
       "shape": {
        "columns": 3,
        "rows": 48
       }
      },
      "text/html": [
       "<div>\n",
       "<style scoped>\n",
       "    .dataframe tbody tr th:only-of-type {\n",
       "        vertical-align: middle;\n",
       "    }\n",
       "\n",
       "    .dataframe tbody tr th {\n",
       "        vertical-align: top;\n",
       "    }\n",
       "\n",
       "    .dataframe thead th {\n",
       "        text-align: right;\n",
       "    }\n",
       "</style>\n",
       "<table border=\"1\" class=\"dataframe\">\n",
       "  <thead>\n",
       "    <tr style=\"text-align: right;\">\n",
       "      <th></th>\n",
       "      <th>sample_of</th>\n",
       "      <th>text</th>\n",
       "      <th>label</th>\n",
       "    </tr>\n",
       "  </thead>\n",
       "  <tbody>\n",
       "    <tr>\n",
       "      <th>0</th>\n",
       "      <td>Account</td>\n",
       "      <td>Incorrect role assigned; need admin access for...</td>\n",
       "      <td>Account</td>\n",
       "    </tr>\n",
       "    <tr>\n",
       "      <th>1</th>\n",
       "      <td>Account</td>\n",
       "      <td>Cannot enable two-factor authentication; QR fa...</td>\n",
       "      <td>Account</td>\n",
       "    </tr>\n",
       "    <tr>\n",
       "      <th>2</th>\n",
       "      <td>Account</td>\n",
       "      <td>How do I delete my account and all data?</td>\n",
       "      <td>Account</td>\n",
       "    </tr>\n",
       "    <tr>\n",
       "      <th>3</th>\n",
       "      <td>Tech</td>\n",
       "      <td>File export to CSV generates corrupted file.</td>\n",
       "      <td>Tech</td>\n",
       "    </tr>\n",
       "    <tr>\n",
       "      <th>4</th>\n",
       "      <td>Tech</td>\n",
       "      <td>Live chat widget not loading on homepage.</td>\n",
       "      <td>Tech</td>\n",
       "    </tr>\n",
       "    <tr>\n",
       "      <th>5</th>\n",
       "      <td>Tech</td>\n",
       "      <td>Search results page is blank after entering a ...</td>\n",
       "      <td>Tech</td>\n",
       "    </tr>\n",
       "    <tr>\n",
       "      <th>6</th>\n",
       "      <td>ACCOUNT</td>\n",
       "      <td>Can't verify phone number; code not sent.</td>\n",
       "      <td>ACCOUNT</td>\n",
       "    </tr>\n",
       "    <tr>\n",
       "      <th>7</th>\n",
       "      <td>ACCOUNT</td>\n",
       "      <td>Locked out after too many login attempts. ###</td>\n",
       "      <td>ACCOUNT</td>\n",
       "    </tr>\n",
       "    <tr>\n",
       "      <th>8</th>\n",
       "      <td>ACCOUNT</td>\n",
       "      <td>Profile picture upload fails with unknown erro...</td>\n",
       "      <td>ACCOUNT</td>\n",
       "    </tr>\n",
       "    <tr>\n",
       "      <th>9</th>\n",
       "      <td>Accnt</td>\n",
       "      <td>Cannot enable two-factor authentication; QR fa...</td>\n",
       "      <td>Accnt</td>\n",
       "    </tr>\n",
       "    <tr>\n",
       "      <th>10</th>\n",
       "      <td>Accnt</td>\n",
       "      <td>NaN</td>\n",
       "      <td>Accnt</td>\n",
       "    </tr>\n",
       "    <tr>\n",
       "      <th>11</th>\n",
       "      <td>Accnt</td>\n",
       "      <td>Need to merge two accounts into one.</td>\n",
       "      <td>Accnt</td>\n",
       "    </tr>\n",
       "    <tr>\n",
       "      <th>12</th>\n",
       "      <td>BILLING</td>\n",
       "      <td>Promo code BLACK50 not applied at checkout.</td>\n",
       "      <td>BILLING</td>\n",
       "    </tr>\n",
       "    <tr>\n",
       "      <th>13</th>\n",
       "      <td>BILLING</td>\n",
       "      <td>Cannot update billing address; page keeps relo...</td>\n",
       "      <td>BILLING</td>\n",
       "    </tr>\n",
       "    <tr>\n",
       "      <th>14</th>\n",
       "      <td>BILLING</td>\n",
       "      <td>Cannot update billing address; page keeps relo...</td>\n",
       "      <td>BILLING</td>\n",
       "    </tr>\n",
       "    <tr>\n",
       "      <th>15</th>\n",
       "      <td>Billing</td>\n",
       "      <td>Refund not received after 3 days.</td>\n",
       "      <td>Billing</td>\n",
       "    </tr>\n",
       "    <tr>\n",
       "      <th>16</th>\n",
       "      <td>Billing</td>\n",
       "      <td>Charged twice for the same order #92991.</td>\n",
       "      <td>Billing</td>\n",
       "    </tr>\n",
       "    <tr>\n",
       "      <th>17</th>\n",
       "      <td>Billing</td>\n",
       "      <td>Promo code BLACK50 not applied at checkout.</td>\n",
       "      <td>Billing</td>\n",
       "    </tr>\n",
       "    <tr>\n",
       "      <th>18</th>\n",
       "      <td>Billng</td>\n",
       "      <td>Refund not received after 5 days.</td>\n",
       "      <td>Billng</td>\n",
       "    </tr>\n",
       "    <tr>\n",
       "      <th>19</th>\n",
       "      <td>Billng</td>\n",
       "      <td>Invoice is missing VAT number.</td>\n",
       "      <td>Billng</td>\n",
       "    </tr>\n",
       "    <tr>\n",
       "      <th>20</th>\n",
       "      <td>Billng</td>\n",
       "      <td>Payment failed during checkout with card endin...</td>\n",
       "      <td>Billng</td>\n",
       "    </tr>\n",
       "    <tr>\n",
       "      <th>21</th>\n",
       "      <td>OTHER</td>\n",
       "      <td>Can I migrate data from Excel?</td>\n",
       "      <td>OTHER</td>\n",
       "    </tr>\n",
       "    <tr>\n",
       "      <th>22</th>\n",
       "      <td>OTHER</td>\n",
       "      <td>How can I request my data under GDPR? 12345</td>\n",
       "      <td>OTHER</td>\n",
       "    </tr>\n",
       "    <tr>\n",
       "      <th>23</th>\n",
       "      <td>OTHER</td>\n",
       "      <td>Please provide onboarding training for my team.</td>\n",
       "      <td>OTHER</td>\n",
       "    </tr>\n",
       "    <tr>\n",
       "      <th>24</th>\n",
       "      <td>Other</td>\n",
       "      <td>When is the Pro pricing changing?</td>\n",
       "      <td>Other</td>\n",
       "    </tr>\n",
       "    <tr>\n",
       "      <th>25</th>\n",
       "      <td>Other</td>\n",
       "      <td>When is the Basic pricing changing?</td>\n",
       "      <td>Other</td>\n",
       "    </tr>\n",
       "    <tr>\n",
       "      <th>26</th>\n",
       "      <td>Other</td>\n",
       "      <td>How can I request my data under GDPR?</td>\n",
       "      <td>Other</td>\n",
       "    </tr>\n",
       "    <tr>\n",
       "      <th>27</th>\n",
       "      <td>Othr</td>\n",
       "      <td>Is there a sandbox environment for testing?</td>\n",
       "      <td>Othr</td>\n",
       "    </tr>\n",
       "    <tr>\n",
       "      <th>28</th>\n",
       "      <td>Othr</td>\n",
       "      <td>Please provide onboarding training for my team.</td>\n",
       "      <td>Othr</td>\n",
       "    </tr>\n",
       "    <tr>\n",
       "      <th>29</th>\n",
       "      <td>Othr</td>\n",
       "      <td>Please provide onboarding training for my team.</td>\n",
       "      <td>Othr</td>\n",
       "    </tr>\n",
       "    <tr>\n",
       "      <th>30</th>\n",
       "      <td>TECHNICAL</td>\n",
       "      <td>Website returns 500 error on /checkout.</td>\n",
       "      <td>TECHNICAL</td>\n",
       "    </tr>\n",
       "    <tr>\n",
       "      <th>31</th>\n",
       "      <td>TECHNICAL</td>\n",
       "      <td>Two-factor prompt loops after successful code ...</td>\n",
       "      <td>TECHNICAL</td>\n",
       "    </tr>\n",
       "    <tr>\n",
       "      <th>32</th>\n",
       "      <td>TECHNICAL</td>\n",
       "      <td>Website returns 500 error on /checkout. &lt;br&gt;</td>\n",
       "      <td>TECHNICAL</td>\n",
       "    </tr>\n",
       "    <tr>\n",
       "      <th>33</th>\n",
       "      <td>Tech-support</td>\n",
       "      <td>Dark mode toggled but UI stays light.</td>\n",
       "      <td>Tech-support</td>\n",
       "    </tr>\n",
       "    <tr>\n",
       "      <th>34</th>\n",
       "      <td>Tech-support</td>\n",
       "      <td>Website returns 500 error on /orders.</td>\n",
       "      <td>Tech-support</td>\n",
       "    </tr>\n",
       "    <tr>\n",
       "      <th>35</th>\n",
       "      <td>Tech-support</td>\n",
       "      <td>File export to CSV generates corrupted file.</td>\n",
       "      <td>Tech-support</td>\n",
       "    </tr>\n",
       "    <tr>\n",
       "      <th>36</th>\n",
       "      <td>account</td>\n",
       "      <td>Incorrect role assigned; need admin access for...</td>\n",
       "      <td>account</td>\n",
       "    </tr>\n",
       "    <tr>\n",
       "      <th>37</th>\n",
       "      <td>account</td>\n",
       "      <td>Forgot my password and reset link never arrives.</td>\n",
       "      <td>account</td>\n",
       "    </tr>\n",
       "    <tr>\n",
       "      <th>38</th>\n",
       "      <td>account</td>\n",
       "      <td>How do I delete my account and all data?</td>\n",
       "      <td>account</td>\n",
       "    </tr>\n",
       "    <tr>\n",
       "      <th>39</th>\n",
       "      <td>billing</td>\n",
       "      <td>Payment failed during checkout with card endin...</td>\n",
       "      <td>billing</td>\n",
       "    </tr>\n",
       "    <tr>\n",
       "      <th>40</th>\n",
       "      <td>billing</td>\n",
       "      <td>Cannot update billing address; page keeps relo...</td>\n",
       "      <td>billing</td>\n",
       "    </tr>\n",
       "    <tr>\n",
       "      <th>41</th>\n",
       "      <td>billing</td>\n",
       "      <td>Cannot update billing address; page keeps relo...</td>\n",
       "      <td>billing</td>\n",
       "    </tr>\n",
       "    <tr>\n",
       "      <th>42</th>\n",
       "      <td>other</td>\n",
       "      <td>Can I migrate data from Zendesk?</td>\n",
       "      <td>other</td>\n",
       "    </tr>\n",
       "    <tr>\n",
       "      <th>43</th>\n",
       "      <td>other</td>\n",
       "      <td>How can I request my data under GDPR?</td>\n",
       "      <td>other</td>\n",
       "    </tr>\n",
       "    <tr>\n",
       "      <th>44</th>\n",
       "      <td>other</td>\n",
       "      <td>Please provide onboarding training for my team.</td>\n",
       "      <td>other</td>\n",
       "    </tr>\n",
       "    <tr>\n",
       "      <th>45</th>\n",
       "      <td>technical</td>\n",
       "      <td>Upload stuck at 99% for more than 10 minutes.</td>\n",
       "      <td>technical</td>\n",
       "    </tr>\n",
       "    <tr>\n",
       "      <th>46</th>\n",
       "      <td>technical</td>\n",
       "      <td>Integration with Stripe fails with timeout. !!!</td>\n",
       "      <td>technical</td>\n",
       "    </tr>\n",
       "    <tr>\n",
       "      <th>47</th>\n",
       "      <td>technical</td>\n",
       "      <td>Search results page is blank after entering a ...</td>\n",
       "      <td>technical</td>\n",
       "    </tr>\n",
       "  </tbody>\n",
       "</table>\n",
       "</div>"
      ],
      "text/plain": [
       "       sample_of                                               text  \\\n",
       "0       Account   Incorrect role assigned; need admin access for...   \n",
       "1       Account   Cannot enable two-factor authentication; QR fa...   \n",
       "2       Account            How do I delete my account and all data?   \n",
       "3           Tech       File export to CSV generates corrupted file.   \n",
       "4           Tech          Live chat widget not loading on homepage.   \n",
       "5           Tech  Search results page is blank after entering a ...   \n",
       "6        ACCOUNT          Can't verify phone number; code not sent.   \n",
       "7        ACCOUNT      Locked out after too many login attempts. ###   \n",
       "8        ACCOUNT  Profile picture upload fails with unknown erro...   \n",
       "9          Accnt  Cannot enable two-factor authentication; QR fa...   \n",
       "10         Accnt                                                NaN   \n",
       "11         Accnt               Need to merge two accounts into one.   \n",
       "12       BILLING        Promo code BLACK50 not applied at checkout.   \n",
       "13       BILLING  Cannot update billing address; page keeps relo...   \n",
       "14       BILLING  Cannot update billing address; page keeps relo...   \n",
       "15      Billing                   Refund not received after 3 days.   \n",
       "16      Billing            Charged twice for the same order #92991.   \n",
       "17      Billing         Promo code BLACK50 not applied at checkout.   \n",
       "18        Billng                  Refund not received after 5 days.   \n",
       "19        Billng                     Invoice is missing VAT number.   \n",
       "20        Billng  Payment failed during checkout with card endin...   \n",
       "21         OTHER                     Can I migrate data from Excel?   \n",
       "22         OTHER        How can I request my data under GDPR? 12345   \n",
       "23         OTHER    Please provide onboarding training for my team.   \n",
       "24        Other                   When is the Pro pricing changing?   \n",
       "25        Other                 When is the Basic pricing changing?   \n",
       "26        Other               How can I request my data under GDPR?   \n",
       "27          Othr        Is there a sandbox environment for testing?   \n",
       "28          Othr    Please provide onboarding training for my team.   \n",
       "29          Othr    Please provide onboarding training for my team.   \n",
       "30     TECHNICAL            Website returns 500 error on /checkout.   \n",
       "31     TECHNICAL  Two-factor prompt loops after successful code ...   \n",
       "32     TECHNICAL       Website returns 500 error on /checkout. <br>   \n",
       "33  Tech-support              Dark mode toggled but UI stays light.   \n",
       "34  Tech-support              Website returns 500 error on /orders.   \n",
       "35  Tech-support       File export to CSV generates corrupted file.   \n",
       "36       account  Incorrect role assigned; need admin access for...   \n",
       "37       account   Forgot my password and reset link never arrives.   \n",
       "38       account           How do I delete my account and all data?   \n",
       "39       billing  Payment failed during checkout with card endin...   \n",
       "40       billing  Cannot update billing address; page keeps relo...   \n",
       "41       billing  Cannot update billing address; page keeps relo...   \n",
       "42         other                   Can I migrate data from Zendesk?   \n",
       "43         other              How can I request my data under GDPR?   \n",
       "44         other    Please provide onboarding training for my team.   \n",
       "45     technical      Upload stuck at 99% for more than 10 minutes.   \n",
       "46     technical    Integration with Stripe fails with timeout. !!!   \n",
       "47     technical  Search results page is blank after entering a ...   \n",
       "\n",
       "           label  \n",
       "0       Account   \n",
       "1       Account   \n",
       "2       Account   \n",
       "3           Tech  \n",
       "4           Tech  \n",
       "5           Tech  \n",
       "6        ACCOUNT  \n",
       "7        ACCOUNT  \n",
       "8        ACCOUNT  \n",
       "9          Accnt  \n",
       "10         Accnt  \n",
       "11         Accnt  \n",
       "12       BILLING  \n",
       "13       BILLING  \n",
       "14       BILLING  \n",
       "15      Billing   \n",
       "16      Billing   \n",
       "17      Billing   \n",
       "18        Billng  \n",
       "19        Billng  \n",
       "20        Billng  \n",
       "21         OTHER  \n",
       "22         OTHER  \n",
       "23         OTHER  \n",
       "24        Other   \n",
       "25        Other   \n",
       "26        Other   \n",
       "27          Othr  \n",
       "28          Othr  \n",
       "29          Othr  \n",
       "30     TECHNICAL  \n",
       "31     TECHNICAL  \n",
       "32     TECHNICAL  \n",
       "33  Tech-support  \n",
       "34  Tech-support  \n",
       "35  Tech-support  \n",
       "36       account  \n",
       "37       account  \n",
       "38       account  \n",
       "39       billing  \n",
       "40       billing  \n",
       "41       billing  \n",
       "42         other  \n",
       "43         other  \n",
       "44         other  \n",
       "45     technical  \n",
       "46     technical  \n",
       "47     technical  "
      ]
     },
     "metadata": {},
     "output_type": "display_data"
    }
   ],
   "source": [
    "\n",
    "if set([\"text\",\"label\"]).issubset(df.columns):\n",
    "    def sample_per_class(dataframe, col_label=\"label\", n=3):\n",
    "        samples = []\n",
    "        for cls, group in dataframe.groupby(col_label):\n",
    "            s = group.sample(min(n, len(group)), random_state=RANDOM_SEED)[[\"text\", col_label]]\n",
    "            s.insert(0, \"sample_of\", cls)\n",
    "            samples.append(s)\n",
    "        return pd.concat(samples, ignore_index=True)\n",
    "\n",
    "    samples_df = sample_per_class(df, \"label\", n=3)\n",
    "    display(samples_df)\n",
    "else:\n",
    "    print(\"Skipping samples per class — missing 'text' or 'label'.\")\n"
   ]
  },
  {
   "cell_type": "code",
   "execution_count": 15,
   "id": "91df0a27",
   "metadata": {},
   "outputs": [
    {
     "name": "stdout",
     "output_type": "stream",
     "text": [
      "Cleaned label categories: ['other' 'billing' 'technical' 'account']\n",
      "Remaining NaN: 0\n"
     ]
    },
    {
     "name": "stderr",
     "output_type": "stream",
     "text": [
      "C:\\Users\\sedem\\AppData\\Local\\Temp\\ipykernel_10136\\2342529533.py:6: SettingWithCopyWarning: \n",
      "A value is trying to be set on a copy of a slice from a DataFrame.\n",
      "Try using .loc[row_indexer,col_indexer] = value instead\n",
      "\n",
      "See the caveats in the documentation: https://pandas.pydata.org/pandas-docs/stable/user_guide/indexing.html#returning-a-view-versus-a-copy\n",
      "  df[\"label\"] = (\n"
     ]
    }
   ],
   "source": [
    "#Clean up , standardize and fix the labels\n",
    "# Drop rows where label is missing\n",
    "df = df.dropna(subset=[\"label\"])\n",
    "\n",
    "# Clean and normalize labels\n",
    "df[\"label\"] = (\n",
    "    df[\"label\"]\n",
    "    .str.strip()          # remove extra spaces\n",
    "    .str.lower()          # lowercase everything\n",
    "    .replace({\n",
    "        \"billng\": \"billing\",\n",
    "        \"billing \": \"billing\",\n",
    "        \"tech\": \"technical\",\n",
    "        \"tech-support\": \"technical\",\n",
    "        \"accnt\": \"account\",\n",
    "        \"account \": \"account\",\n",
    "        \"othr\": \"other\",\n",
    "        \"other \": \"other\",\n",
    "        \"other\": \"other\",\n",
    "        \"other\": \"other\",\n",
    "        \"technical\": \"technical\",\n",
    "        \"billing\": \"billing\",\n",
    "        \"account\": \"account\"\n",
    "    })\n",
    ")\n",
    "\n",
    "# Double-check unique labels now\n",
    "print(\"Cleaned label categories:\", df[\"label\"].unique())\n",
    "print(\"Remaining NaN:\", df[\"label\"].isna().sum())\n"
   ]
  },
  {
   "cell_type": "code",
   "execution_count": 16,
   "id": "0dc11a47",
   "metadata": {},
   "outputs": [
    {
     "name": "stdout",
     "output_type": "stream",
     "text": [
      "['can i migrate data from zendesk? !!!', 'website returns 500 error on checkout.', 'subscription renewal charged incorrectly this month.', 'looking for a product roadmap or upcoming features.', 'search results page is blank after entering a query.']\n"
     ]
    },
    {
     "name": "stderr",
     "output_type": "stream",
     "text": [
      "C:\\Users\\sedem\\AppData\\Local\\Temp\\ipykernel_10136\\3886642937.py:18: SettingWithCopyWarning: \n",
      "A value is trying to be set on a copy of a slice from a DataFrame.\n",
      "Try using .loc[row_indexer,col_indexer] = value instead\n",
      "\n",
      "See the caveats in the documentation: https://pandas.pydata.org/pandas-docs/stable/user_guide/indexing.html#returning-a-view-versus-a-copy\n",
      "  df[\"text\"] = df[\"text\"].apply(clean_text)\n"
     ]
    }
   ],
   "source": [
    "import re\n",
    "import html\n",
    "\n",
    "def clean_text(text):\n",
    "    if not isinstance(text, str):\n",
    "        return \"\"\n",
    "    \n",
    "    text = html.unescape(text)  # Decode HTML entities like &amp;\n",
    "    text = text.lower()  # Normalize casing\n",
    "    text = re.sub(r\"http\\S+|www\\S+\", \" \", text)  # Remove URLs\n",
    "    text = re.sub(r\"@[A-Za-z0-9_]+\", \" \", text)  # Remove @mentions\n",
    "    text = re.sub(r\"#[A-Za-z0-9_]+\", \" \", text)  # Remove hashtags\n",
    "    text = re.sub(r\"[^\\w\\s.,!?']\", \" \", text)  # Remove emojis/symbols\n",
    "    text = re.sub(r\"\\s+\", \" \", text)  # Remove multiple spaces\n",
    "    return text.strip()\n",
    "\n",
    "# Apply cleaning to the 'text' column\n",
    "df[\"text\"] = df[\"text\"].apply(clean_text)\n",
    "\n",
    "# Verify results\n",
    "print(df[\"text\"].sample(5).tolist())\n"
   ]
  },
  {
   "cell_type": "code",
   "execution_count": 18,
   "id": "c8ea70cc",
   "metadata": {},
   "outputs": [
    {
     "name": "stdout",
     "output_type": "stream",
     "text": [
      "Train shape: (396, 4) Test shape: (99, 4)\n",
      "\n",
      "Train class distribution:\n",
      "label\n",
      "account      0.247475\n",
      "billing      0.242424\n",
      "other        0.257576\n",
      "technical    0.252525\n",
      "Name: proportion, dtype: float64\n",
      "\n",
      "Test class distribution:\n",
      "label\n",
      "account      0.242424\n",
      "billing      0.242424\n",
      "other        0.262626\n",
      "technical    0.252525\n",
      "Name: proportion, dtype: float64\n"
     ]
    }
   ],
   "source": [
    "\n",
    "if set([\"text\",\"label\"]).issubset(df.columns):\n",
    "    train_df, test_df = train_test_split(df, test_size=0.2, stratify=df[\"label\"], random_state=RANDOM_SEED)\n",
    "    print(\"Train shape:\", train_df.shape, \"Test shape:\", test_df.shape)\n",
    "\n",
    "    # Verify stratification\n",
    "    print(\"\\nTrain class distribution:\")\n",
    "    print(train_df[\"label\"].value_counts(normalize=True).sort_index())\n",
    "\n",
    "    print(\"\\nTest class distribution:\")\n",
    "    print(test_df[\"label\"].value_counts(normalize=True).sort_index())\n",
    "else:\n",
    "    print(\"Skipping split — missing 'text' or 'label'.\")\n"
   ]
  },
  {
   "cell_type": "code",
   "execution_count": 19,
   "id": "f9b49c80",
   "metadata": {},
   "outputs": [
    {
     "name": "stdout",
     "output_type": "stream",
     "text": [
      "Saved artifacts/sample_preview.csv\n"
     ]
    }
   ],
   "source": [
    "\n",
    "# Save processed artifacts (optional)\n",
    "import os\n",
    "os.makedirs(\"artifacts\", exist_ok=True)\n",
    "df.head(50).to_csv(\"artifacts/sample_preview.csv\", index=False)\n",
    "print(\"Saved artifacts/sample_preview.csv\")\n"
   ]
  },
  {
   "cell_type": "markdown",
   "id": "6f7d9db9",
   "metadata": {},
   "source": [
    "\n",
    "---\n",
    "\n",
    "**Notes for interns:**  \n",
    "- If your CSV uses different column names, adjust the rename cell accordingly.  \n",
    "- Keep your environment consistent (Python 3.9+).  \n",
    "- Push your findings as a short markdown summary in the repo (`reports/week1_summary_yourname.md`).\n",
    "\n",
    "_Last updated: 2025-10-03 15:23 UTC_\n"
   ]
  }
 ],
 "metadata": {
  "kernelspec": {
   "display_name": ".venv",
   "language": "python",
   "name": "python3"
  },
  "language_info": {
   "codemirror_mode": {
    "name": "ipython",
    "version": 3
   },
   "file_extension": ".py",
   "mimetype": "text/x-python",
   "name": "python",
   "nbconvert_exporter": "python",
   "pygments_lexer": "ipython3",
   "version": "3.13.7"
  }
 },
 "nbformat": 4,
 "nbformat_minor": 5
}
