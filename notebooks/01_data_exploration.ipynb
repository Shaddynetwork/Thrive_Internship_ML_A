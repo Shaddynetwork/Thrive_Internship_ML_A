{
  "cells": [
    {
      "cell_type": "markdown",
      "metadata": {
        "id": "gCqF5Chc5IRy"
      },
      "source": [
        "# STEP ONE: LOAD AND INSPECT OUR DATA"
      ]
    },
    {
      "cell_type": "code",
      "execution_count": 1,
      "metadata": {
        "id": "9Z5fMHPX5FIl"
      },
      "outputs": [],
      "source": [
        "import os\n",
        "import pandas as pd\n",
        "import numpy as np\n",
        "import matplotlib.pyplot as plt\n",
        "from collections import Counter\n",
        "from sklearn.model_selection import train_test_split\n",
        "import requests\n",
        "\n",
        "# Ensure plots show inline\n",
        "%matplotlib inline\n"
      ]
    },
    {
      "cell_type": "code",
      "execution_count": 2,
      "metadata": {
        "id": "TJyRUqZ15wNW"
      },
      "outputs": [],
      "source": [
        "# Config\n",
        "DATA_PATH = \"data/customer_support_tickets_dirty_500.csv\"\n",
        "DATA_URL = \"https://raw.githubusercontent.com/Shaddynetwork/Thrive_Internship_ML_A/main/customer_support_tickets_dirty.csv\"\n",
        "RANDOM_SEED = 42"
      ]
    },
    {
      "cell_type": "code",
      "execution_count": 3,
      "metadata": {
        "id": "0tCC2sdn5tWl"
      },
      "outputs": [
        {
          "name": "stdout",
          "output_type": "stream",
          "text": [
            "Dataset not found locally. Downloading from GitHub...\n",
            "Download complete.\n",
            "Download complete.\n"
          ]
        }
      ],
      "source": [
        "# Ensure data folder exists\n",
        "os.makedirs(\"data\", exist_ok=True)\n",
        "# Check if file exists, otherwise download\n",
        "if not os.path.exists(DATA_PATH):\n",
        "    print(\"Dataset not found locally. Downloading from GitHub...\")\n",
        "    r = requests.get(DATA_URL)\n",
        "    open(DATA_PATH, \"wb\").write(r.content)\n",
        "    print(\"Download complete.\")\n"
      ]
    },
    {
      "cell_type": "code",
      "execution_count": 4,
      "metadata": {
        "id": "R4QfyVgp5lil"
      },
      "outputs": [],
      "source": [
        "# Loading dataset\n",
        "df = pd.read_csv(DATA_PATH)"
      ]
    },
    {
      "cell_type": "code",
      "execution_count": 5,
      "metadata": {
        "colab": {
          "base_uri": "https://localhost:8080/",
          "height": 206
        },
        "id": "iEBbPGFEMjmt",
        "outputId": "f3199a2c-bd17-4fba-f396-166512afc4ef"
      },
      "outputs": [
        {
          "data": {
            "text/html": [
              "<div>\n",
              "<style scoped>\n",
              "    .dataframe tbody tr th:only-of-type {\n",
              "        vertical-align: middle;\n",
              "    }\n",
              "\n",
              "    .dataframe tbody tr th {\n",
              "        vertical-align: top;\n",
              "    }\n",
              "\n",
              "    .dataframe thead th {\n",
              "        text-align: right;\n",
              "    }\n",
              "</style>\n",
              "<table border=\"1\" class=\"dataframe\">\n",
              "  <thead>\n",
              "    <tr style=\"text-align: right;\">\n",
              "      <th></th>\n",
              "      <th>text</th>\n",
              "      <th>label</th>\n",
              "      <th>ticket_id</th>\n",
              "      <th>agent_name</th>\n",
              "    </tr>\n",
              "  </thead>\n",
              "  <tbody>\n",
              "    <tr>\n",
              "      <th>0</th>\n",
              "      <td>Where can I find API rate limits documentation?</td>\n",
              "      <td>Othr</td>\n",
              "      <td>1000</td>\n",
              "      <td>Dana</td>\n",
              "    </tr>\n",
              "    <tr>\n",
              "      <th>1</th>\n",
              "      <td>Can I migrate data from Freshdesk?</td>\n",
              "      <td>Othr</td>\n",
              "      <td>1001</td>\n",
              "      <td>Bob</td>\n",
              "    </tr>\n",
              "    <tr>\n",
              "      <th>2</th>\n",
              "      <td>Cannot update billing address; page keeps relo...</td>\n",
              "      <td>billing</td>\n",
              "      <td>1002</td>\n",
              "      <td>Charlie</td>\n",
              "    </tr>\n",
              "    <tr>\n",
              "      <th>3</th>\n",
              "      <td>Looking for a product roadmap or upcoming feat...</td>\n",
              "      <td>other</td>\n",
              "      <td>1003</td>\n",
              "      <td>Dana</td>\n",
              "    </tr>\n",
              "    <tr>\n",
              "      <th>4</th>\n",
              "      <td>Dark mode toggled but UI stays light.</td>\n",
              "      <td>Tech-support</td>\n",
              "      <td>1004</td>\n",
              "      <td>Alice</td>\n",
              "    </tr>\n",
              "  </tbody>\n",
              "</table>\n",
              "</div>"
            ],
            "text/plain": [
              "                                                text         label  ticket_id  \\\n",
              "0    Where can I find API rate limits documentation?          Othr       1000   \n",
              "1                 Can I migrate data from Freshdesk?          Othr       1001   \n",
              "2  Cannot update billing address; page keeps relo...       billing       1002   \n",
              "3  Looking for a product roadmap or upcoming feat...         other       1003   \n",
              "4              Dark mode toggled but UI stays light.  Tech-support       1004   \n",
              "\n",
              "  agent_name  \n",
              "0       Dana  \n",
              "1        Bob  \n",
              "2    Charlie  \n",
              "3       Dana  \n",
              "4      Alice  "
            ]
          },
          "execution_count": 5,
          "metadata": {},
          "output_type": "execute_result"
        }
      ],
      "source": [
        "df.head()"
      ]
    },
    {
      "cell_type": "code",
      "execution_count": 6,
      "metadata": {
        "colab": {
          "base_uri": "https://localhost:8080/",
          "height": 677
        },
        "id": "WwYwOwMh5z9m",
        "outputId": "4b9d0129-71a0-4858-ad83-a6096f812c20"
      },
      "outputs": [
        {
          "data": {
            "text/html": [
              "<div>\n",
              "<style scoped>\n",
              "    .dataframe tbody tr th:only-of-type {\n",
              "        vertical-align: middle;\n",
              "    }\n",
              "\n",
              "    .dataframe tbody tr th {\n",
              "        vertical-align: top;\n",
              "    }\n",
              "\n",
              "    .dataframe thead th {\n",
              "        text-align: right;\n",
              "    }\n",
              "</style>\n",
              "<table border=\"1\" class=\"dataframe\">\n",
              "  <thead>\n",
              "    <tr style=\"text-align: right;\">\n",
              "      <th></th>\n",
              "      <th>text</th>\n",
              "      <th>label</th>\n",
              "      <th>ticket_id</th>\n",
              "      <th>agent_name</th>\n",
              "    </tr>\n",
              "  </thead>\n",
              "  <tbody>\n",
              "    <tr>\n",
              "      <th>0</th>\n",
              "      <td>Where can I find API rate limits documentation?</td>\n",
              "      <td>Othr</td>\n",
              "      <td>1000</td>\n",
              "      <td>Dana</td>\n",
              "    </tr>\n",
              "    <tr>\n",
              "      <th>1</th>\n",
              "      <td>Can I migrate data from Freshdesk?</td>\n",
              "      <td>Othr</td>\n",
              "      <td>1001</td>\n",
              "      <td>Bob</td>\n",
              "    </tr>\n",
              "    <tr>\n",
              "      <th>2</th>\n",
              "      <td>Cannot update billing address; page keeps relo...</td>\n",
              "      <td>billing</td>\n",
              "      <td>1002</td>\n",
              "      <td>Charlie</td>\n",
              "    </tr>\n",
              "    <tr>\n",
              "      <th>3</th>\n",
              "      <td>Looking for a product roadmap or upcoming feat...</td>\n",
              "      <td>other</td>\n",
              "      <td>1003</td>\n",
              "      <td>Dana</td>\n",
              "    </tr>\n",
              "    <tr>\n",
              "      <th>4</th>\n",
              "      <td>Dark mode toggled but UI stays light.</td>\n",
              "      <td>Tech-support</td>\n",
              "      <td>1004</td>\n",
              "      <td>Alice</td>\n",
              "    </tr>\n",
              "    <tr>\n",
              "      <th>5</th>\n",
              "      <td>Promo code SPRING15 not applied at checkout.</td>\n",
              "      <td>billing</td>\n",
              "      <td>1005</td>\n",
              "      <td>Alice</td>\n",
              "    </tr>\n",
              "    <tr>\n",
              "      <th>6</th>\n",
              "      <td>Incorrect role assigned; need admin access for...</td>\n",
              "      <td>account</td>\n",
              "      <td>1006</td>\n",
              "      <td>Dana</td>\n",
              "    </tr>\n",
              "    <tr>\n",
              "      <th>7</th>\n",
              "      <td>File export to CSV generates corrupted file.</td>\n",
              "      <td>technical</td>\n",
              "      <td>1007</td>\n",
              "      <td>Dana</td>\n",
              "    </tr>\n",
              "    <tr>\n",
              "      <th>8</th>\n",
              "      <td>Overcharged by GHS 120 on my last bill. 😡</td>\n",
              "      <td>billing</td>\n",
              "      <td>1008</td>\n",
              "      <td>Dana</td>\n",
              "    </tr>\n",
              "    <tr>\n",
              "      <th>9</th>\n",
              "      <td>NaN</td>\n",
              "      <td>account</td>\n",
              "      <td>1009</td>\n",
              "      <td>Dana</td>\n",
              "    </tr>\n",
              "    <tr>\n",
              "      <th>10</th>\n",
              "      <td>Username amina already taken but it's my old a...</td>\n",
              "      <td>Accnt</td>\n",
              "      <td>1010</td>\n",
              "      <td>Bob</td>\n",
              "    </tr>\n",
              "    <tr>\n",
              "      <th>11</th>\n",
              "      <td>Please provide onboarding training for my team...</td>\n",
              "      <td>OTHER</td>\n",
              "      <td>1011</td>\n",
              "      <td>Charlie</td>\n",
              "    </tr>\n",
              "    <tr>\n",
              "      <th>12</th>\n",
              "      <td>Integration with Slack fails with timeout. !!!</td>\n",
              "      <td>TECHNICAL</td>\n",
              "      <td>1012</td>\n",
              "      <td>Charlie</td>\n",
              "    </tr>\n",
              "    <tr>\n",
              "      <th>13</th>\n",
              "      <td>Need to change email from old@mail.com to me@c...</td>\n",
              "      <td>ACCOUNT</td>\n",
              "      <td>1013</td>\n",
              "      <td>Bob</td>\n",
              "    </tr>\n",
              "    <tr>\n",
              "      <th>14</th>\n",
              "      <td>Cannot update billing address; page keeps relo...</td>\n",
              "      <td>BILLING</td>\n",
              "      <td>1014</td>\n",
              "      <td>Charlie</td>\n",
              "    </tr>\n",
              "    <tr>\n",
              "      <th>15</th>\n",
              "      <td>Need to merge two accounts into one.</td>\n",
              "      <td>Accnt</td>\n",
              "      <td>1015</td>\n",
              "      <td>Alice</td>\n",
              "    </tr>\n",
              "    <tr>\n",
              "      <th>16</th>\n",
              "      <td>Do you offer discounts for students or NGOs?</td>\n",
              "      <td>Other</td>\n",
              "      <td>1016</td>\n",
              "      <td>Bob</td>\n",
              "    </tr>\n",
              "    <tr>\n",
              "      <th>17</th>\n",
              "      <td>Integration with Zapier fails with timeout.</td>\n",
              "      <td>NaN</td>\n",
              "      <td>1017</td>\n",
              "      <td>Charlie</td>\n",
              "    </tr>\n",
              "    <tr>\n",
              "      <th>18</th>\n",
              "      <td>How can I request my data under GDPR?</td>\n",
              "      <td>Other</td>\n",
              "      <td>1018</td>\n",
              "      <td>Dana</td>\n",
              "    </tr>\n",
              "    <tr>\n",
              "      <th>19</th>\n",
              "      <td>How do I delete my account and all data?</td>\n",
              "      <td>Accnt</td>\n",
              "      <td>1019</td>\n",
              "      <td>Alice</td>\n",
              "    </tr>\n",
              "  </tbody>\n",
              "</table>\n",
              "</div>"
            ],
            "text/plain": [
              "                                                 text         label  \\\n",
              "0     Where can I find API rate limits documentation?          Othr   \n",
              "1                  Can I migrate data from Freshdesk?          Othr   \n",
              "2   Cannot update billing address; page keeps relo...       billing   \n",
              "3   Looking for a product roadmap or upcoming feat...         other   \n",
              "4               Dark mode toggled but UI stays light.  Tech-support   \n",
              "5        Promo code SPRING15 not applied at checkout.       billing   \n",
              "6   Incorrect role assigned; need admin access for...       account   \n",
              "7        File export to CSV generates corrupted file.     technical   \n",
              "8           Overcharged by GHS 120 on my last bill. 😡       billing   \n",
              "9                                                 NaN       account   \n",
              "10  Username amina already taken but it's my old a...         Accnt   \n",
              "11  Please provide onboarding training for my team...         OTHER   \n",
              "12     Integration with Slack fails with timeout. !!!     TECHNICAL   \n",
              "13  Need to change email from old@mail.com to me@c...       ACCOUNT   \n",
              "14  Cannot update billing address; page keeps relo...       BILLING   \n",
              "15               Need to merge two accounts into one.         Accnt   \n",
              "16       Do you offer discounts for students or NGOs?        Other    \n",
              "17        Integration with Zapier fails with timeout.           NaN   \n",
              "18              How can I request my data under GDPR?        Other    \n",
              "19           How do I delete my account and all data?         Accnt   \n",
              "\n",
              "    ticket_id agent_name  \n",
              "0        1000       Dana  \n",
              "1        1001        Bob  \n",
              "2        1002    Charlie  \n",
              "3        1003       Dana  \n",
              "4        1004      Alice  \n",
              "5        1005      Alice  \n",
              "6        1006       Dana  \n",
              "7        1007       Dana  \n",
              "8        1008       Dana  \n",
              "9        1009       Dana  \n",
              "10       1010        Bob  \n",
              "11       1011    Charlie  \n",
              "12       1012    Charlie  \n",
              "13       1013        Bob  \n",
              "14       1014    Charlie  \n",
              "15       1015      Alice  \n",
              "16       1016        Bob  \n",
              "17       1017    Charlie  \n",
              "18       1018       Dana  \n",
              "19       1019      Alice  "
            ]
          },
          "execution_count": 6,
          "metadata": {},
          "output_type": "execute_result"
        }
      ],
      "source": [
        "# inspecting Dataset\n",
        "df.head(20)"
      ]
    },
    {
      "cell_type": "code",
      "execution_count": 7,
      "metadata": {
        "colab": {
          "base_uri": "https://localhost:8080/"
        },
        "id": "7lpJpuQOJv90",
        "outputId": "b0d0dc8c-6e1e-46af-f906-126f372f38e9"
      },
      "outputs": [
        {
          "data": {
            "text/plain": [
              "(520, 4)"
            ]
          },
          "execution_count": 7,
          "metadata": {},
          "output_type": "execute_result"
        }
      ],
      "source": [
        "df.shape"
      ]
    },
    {
      "cell_type": "code",
      "execution_count": 8,
      "metadata": {
        "colab": {
          "base_uri": "https://localhost:8080/"
        },
        "id": "mwzCki8r6xMY",
        "outputId": "1556bc2e-6cdc-409a-ac2f-10ded3e2eedf"
      },
      "outputs": [
        {
          "name": "stdout",
          "output_type": "stream",
          "text": [
            "The dataset has 520 rows and 4 columns\n"
          ]
        }
      ],
      "source": [
        "# checking number of rows and columns our dataset has\n",
        "row = df.shape[0]\n",
        "column = df.shape[1]\n",
        "print(f\"The dataset has {row} rows and {column} columns\")"
      ]
    },
    {
      "cell_type": "code",
      "execution_count": 9,
      "metadata": {
        "colab": {
          "base_uri": "https://localhost:8080/"
        },
        "id": "oLtwvj6t62sT",
        "outputId": "26b83c56-4cd1-47dc-e201-81b2610aaa43"
      },
      "outputs": [
        {
          "name": "stdout",
          "output_type": "stream",
          "text": [
            "<class 'pandas.core.frame.DataFrame'>\n",
            "RangeIndex: 520 entries, 0 to 519\n",
            "Data columns (total 4 columns):\n",
            " #   Column      Non-Null Count  Dtype \n",
            "---  ------      --------------  ----- \n",
            " 0   text        495 non-null    object\n",
            " 1   label       495 non-null    object\n",
            " 2   ticket_id   520 non-null    int64 \n",
            " 3   agent_name  520 non-null    object\n",
            "dtypes: int64(1), object(3)\n",
            "memory usage: 16.4+ KB\n"
          ]
        }
      ],
      "source": [
        "df.info()"
      ]
    },
    {
      "cell_type": "code",
      "execution_count": 10,
      "metadata": {
        "colab": {
          "base_uri": "https://localhost:8080/",
          "height": 210
        },
        "id": "2sYczGMv68cQ",
        "outputId": "7c34c1f1-ca3e-4bf1-94bd-7a5f7a9f91cb"
      },
      "outputs": [
        {
          "data": {
            "text/plain": [
              "text          25\n",
              "label         25\n",
              "ticket_id      0\n",
              "agent_name     0\n",
              "dtype: int64"
            ]
          },
          "execution_count": 10,
          "metadata": {},
          "output_type": "execute_result"
        }
      ],
      "source": [
        "# Checking for Missing values in the dataset\n",
        "df.isnull().sum()"
      ]
    },
    {
      "cell_type": "code",
      "execution_count": 11,
      "metadata": {
        "colab": {
          "base_uri": "https://localhost:8080/"
        },
        "id": "0pRRQQGF7aUD",
        "outputId": "66b165be-7d5a-4085-df22-a542f93b2226"
      },
      "outputs": [
        {
          "name": "stdout",
          "output_type": "stream",
          "text": [
            "Total number of duplicate rows are: 0\n"
          ]
        }
      ],
      "source": [
        "# checking for duplicate rows\n",
        "duplicated_count = df.duplicated().sum()\n",
        "print(f\"Total number of duplicate rows are: {duplicated_count}\")"
      ]
    },
    {
      "cell_type": "markdown",
      "metadata": {
        "id": "5Gr171WH9AH2"
      },
      "source": [
        "## **Findings** **from** **Data** **Inspection**\n",
        "\n",
        "From the initial inspection, we observed the following:\n",
        "\n",
        "The dataset contains ***520 rows*** and **4 columns**.   \n",
        "There are **missing values** in two key columns: 'text' and 'label'.  \n",
        "Several **misspellings** and ***inconsistent letter casing*** were detected in the 'label' column (as seen in 'df.head(20)').  \n",
        " **No duplicate rows** were found in the dataset.  \n",
        "\n",
        "These findings highlight the need for thorough data cleaning before model training  particularly to handle missing entries, normalize label names, and ensure consistent text formatting.\n"
      ]
    },
    {
      "cell_type": "markdown",
      "metadata": {
        "id": "brYfJlxl_oU8"
      },
      "source": [
        "# **STEP 2**: **DATA** **CLEANING**\n",
        "1. Removing Missing Values\n",
        "2. Normalized labels to the four core classes:  \n",
        "   - `billing`  \n",
        "   - `technical`  \n",
        "   - `account`  \n",
        "   - `other`\n",
        "3. Fixed inconsistencies like typos (`Billng` → `billing`, `Tech-support` → `technical`, etc.).\n",
        "\n",
        "4. Cleaned text by removing URLs, hashtags, mentions, emojis, and extra spaces.  \n",
        "\n",
        "5. Converted all text to lowercase and removed HTML entities.\n"
      ]
    },
    {
      "cell_type": "code",
      "execution_count": 12,
      "metadata": {
        "id": "JbKdPlnm_D2C"
      },
      "outputs": [],
      "source": [
        "#Dropping Missing values\n",
        "df.dropna(inplace =True)"
      ]
    },
    {
      "cell_type": "code",
      "execution_count": 13,
      "metadata": {
        "colab": {
          "base_uri": "https://localhost:8080/",
          "height": 210
        },
        "id": "vVaqFLbiHGOM",
        "outputId": "e9c3402b-128a-4be0-a684-5ff3842f9063"
      },
      "outputs": [
        {
          "data": {
            "text/plain": [
              "text          0\n",
              "label         0\n",
              "ticket_id     0\n",
              "agent_name    0\n",
              "dtype: int64"
            ]
          },
          "execution_count": 13,
          "metadata": {},
          "output_type": "execute_result"
        }
      ],
      "source": [
        "#checking for missing value\n",
        "df.isnull().sum()"
      ]
    },
    {
      "cell_type": "code",
      "execution_count": 14,
      "metadata": {
        "colab": {
          "base_uri": "https://localhost:8080/",
          "height": 617
        },
        "id": "XVttx7kKKgEy",
        "outputId": "20aa00ab-391b-408c-90da-0fb09883a9dd"
      },
      "outputs": [
        {
          "data": {
            "text/plain": [
              "label\n",
              "Accnt           41\n",
              " Tech           38\n",
              "ACCOUNT         36\n",
              "Othr            35\n",
              "Billng          34\n",
              "Other           33\n",
              "other           32\n",
              "technical       31\n",
              "Billing         31\n",
              "TECHNICAL       30\n",
              "billing         25\n",
              "OTHER           25\n",
              "BILLING         23\n",
              "Tech-support    20\n",
              " Account        20\n",
              "account         18\n",
              "Name: count, dtype: int64"
            ]
          },
          "execution_count": 14,
          "metadata": {},
          "output_type": "execute_result"
        }
      ],
      "source": [
        "df['label'].value_counts()"
      ]
    },
    {
      "cell_type": "code",
      "execution_count": 15,
      "metadata": {
        "id": "JJeXUt2FI0cr"
      },
      "outputs": [],
      "source": [
        "#change all to lowercase and remove space\n",
        "df['label'] = df['label'].str.lower().str.strip()"
      ]
    },
    {
      "cell_type": "code",
      "execution_count": 16,
      "metadata": {
        "colab": {
          "base_uri": "https://localhost:8080/",
          "height": 398
        },
        "id": "JMHQoIDnKBGi",
        "outputId": "5a7ee46b-44a8-4410-db87-e7baaa79223e"
      },
      "outputs": [
        {
          "data": {
            "text/plain": [
              "label\n",
              "other           90\n",
              "billing         79\n",
              "account         74\n",
              "technical       61\n",
              "accnt           41\n",
              "tech            38\n",
              "othr            35\n",
              "billng          34\n",
              "tech-support    20\n",
              "Name: count, dtype: int64"
            ]
          },
          "execution_count": 16,
          "metadata": {},
          "output_type": "execute_result"
        }
      ],
      "source": [
        "df['label'].value_counts()"
      ]
    },
    {
      "cell_type": "code",
      "execution_count": 17,
      "metadata": {
        "id": "EXGOiuzsMzM_"
      },
      "outputs": [],
      "source": [
        "#mapping labels in four class\n",
        "label_mapping = {\n",
        "    'billing': 'billing',\n",
        "    'billng' : 'billing',\n",
        "    'billing': 'billing',\n",
        "    'technical': 'technical',\n",
        "    'tech-support':'technical',\n",
        "    'tech' : 'technical',\n",
        "    'account': 'account',\n",
        "    'accnt' : 'account',\n",
        "    'other': 'other',\n",
        "    'othr': 'other'\n",
        "\n",
        "}\n",
        "df['label'] = df['label'].replace(label_mapping)"
      ]
    },
    {
      "cell_type": "code",
      "execution_count": 18,
      "metadata": {
        "colab": {
          "base_uri": "https://localhost:8080/"
        },
        "id": "eklpNYiVReHr",
        "outputId": "35959f35-7a3f-4033-df90-01c333179ef2"
      },
      "outputs": [
        {
          "name": "stdout",
          "output_type": "stream",
          "text": [
            "The Normalize labels has 4 classes, namely: ['other' 'billing' 'technical' 'account']\n"
          ]
        }
      ],
      "source": [
        "# Inspecting the attribute labels to know number of unique values\n",
        "class_labels = df['label'].nunique()\n",
        "class_name = df['label'].unique()\n",
        "print(f\"The Normalize labels has {class_labels} classes, namely: {class_name}\")"
      ]
    },
    {
      "cell_type": "markdown",
      "metadata": {
        "id": "Iaa_Ag1STYHt"
      },
      "source": [
        "### Still on **data** **cleaning**, so far we've normalized our labels into four classes. Also, we have addressed the typos and inconsistencies in the dataset.\n",
        "### Now moving to removing URLs and emojis, before that we want to know all records with URLs and emojis\n",
        "## Importing re: To allow us clean urls from our text\n"
      ]
    },
    {
      "cell_type": "code",
      "execution_count": 19,
      "metadata": {
        "colab": {
          "base_uri": "https://localhost:8080/",
          "height": 206
        },
        "id": "5Qi4Y4r8kK4A",
        "outputId": "88f74a65-175a-47fd-e627-99d7996adb30"
      },
      "outputs": [
        {
          "data": {
            "text/html": [
              "<div>\n",
              "<style scoped>\n",
              "    .dataframe tbody tr th:only-of-type {\n",
              "        vertical-align: middle;\n",
              "    }\n",
              "\n",
              "    .dataframe tbody tr th {\n",
              "        vertical-align: top;\n",
              "    }\n",
              "\n",
              "    .dataframe thead th {\n",
              "        text-align: right;\n",
              "    }\n",
              "</style>\n",
              "<table border=\"1\" class=\"dataframe\">\n",
              "  <thead>\n",
              "    <tr style=\"text-align: right;\">\n",
              "      <th></th>\n",
              "      <th>text</th>\n",
              "      <th>label</th>\n",
              "      <th>ticket_id</th>\n",
              "      <th>agent_name</th>\n",
              "      <th>has_weird_symbol</th>\n",
              "    </tr>\n",
              "  </thead>\n",
              "  <tbody>\n",
              "    <tr>\n",
              "      <th>47</th>\n",
              "      <td>Can't verify phone number; code not sent. &lt;br&gt;</td>\n",
              "      <td>account</td>\n",
              "      <td>1047</td>\n",
              "      <td>Dana</td>\n",
              "      <td>True</td>\n",
              "    </tr>\n",
              "    <tr>\n",
              "      <th>70</th>\n",
              "      <td>Please provide onboarding training for my team...</td>\n",
              "      <td>other</td>\n",
              "      <td>1070</td>\n",
              "      <td>Bob</td>\n",
              "      <td>True</td>\n",
              "    </tr>\n",
              "    <tr>\n",
              "      <th>117</th>\n",
              "      <td>App crashes when I tap Save on Android. &lt;br&gt;</td>\n",
              "      <td>technical</td>\n",
              "      <td>1117</td>\n",
              "      <td>Bob</td>\n",
              "      <td>True</td>\n",
              "    </tr>\n",
              "    <tr>\n",
              "      <th>141</th>\n",
              "      <td>Can't verify phone number; code not sent. &lt;br&gt;</td>\n",
              "      <td>account</td>\n",
              "      <td>1141</td>\n",
              "      <td>Dana</td>\n",
              "      <td>True</td>\n",
              "    </tr>\n",
              "    <tr>\n",
              "      <th>190</th>\n",
              "      <td>Overcharged by $49 on my last bill. &lt;br&gt;</td>\n",
              "      <td>billing</td>\n",
              "      <td>1190</td>\n",
              "      <td>Bob</td>\n",
              "      <td>True</td>\n",
              "    </tr>\n",
              "  </tbody>\n",
              "</table>\n",
              "</div>"
            ],
            "text/plain": [
              "                                                  text      label  ticket_id  \\\n",
              "47      Can't verify phone number; code not sent. <br>    account       1047   \n",
              "70   Please provide onboarding training for my team...      other       1070   \n",
              "117       App crashes when I tap Save on Android. <br>  technical       1117   \n",
              "141     Can't verify phone number; code not sent. <br>    account       1141   \n",
              "190           Overcharged by $49 on my last bill. <br>    billing       1190   \n",
              "\n",
              "    agent_name  has_weird_symbol  \n",
              "47        Dana              True  \n",
              "70         Bob              True  \n",
              "117        Bob              True  \n",
              "141       Dana              True  \n",
              "190        Bob              True  "
            ]
          },
          "execution_count": 19,
          "metadata": {},
          "output_type": "execute_result"
        }
      ],
      "source": [
        "# IDENTIFY NOISY SYMBOLS AND HTML TAGS\n",
        "df['has_weird_symbol'] = df['text'].str.contains(r'[~^|<>]', regex=True)\n",
        "df[df['has_weird_symbol']].head(5)"
      ]
    },
    {
      "cell_type": "code",
      "execution_count": 20,
      "metadata": {
        "colab": {
          "base_uri": "https://localhost:8080/"
        },
        "id": "rnxiocp2kgpx",
        "outputId": "67ded93d-72d2-4695-99c2-b4ffcda0e497"
      },
      "outputs": [
        {
          "name": "stdout",
          "output_type": "stream",
          "text": [
            "symbol_context\n",
            ";        55\n",
            " #       20\n",
            ". ###    17\n",
            " /       16\n",
            ". 😡      14\n",
            ".        14\n",
            ". !!!    13\n",
            ". <      11\n",
            "%        10\n",
            " $        8\n",
            "?         5\n",
            "? !!!     5\n",
            "? 😡       3\n",
            "? ###     2\n",
            "Name: count, dtype: int64\n"
          ]
        }
      ],
      "source": [
        "#identify symbols and non-word charater\n",
        "df['symbol_context'] = df['text'].str.extract(r'(\\W{2,})')\n",
        "print(df['symbol_context'].value_counts())"
      ]
    },
    {
      "cell_type": "code",
      "execution_count": 21,
      "metadata": {
        "colab": {
          "base_uri": "https://localhost:8080/"
        },
        "id": "WoQSDsSBUJwX",
        "outputId": "4eeef2cb-9bea-4db4-a6d4-fa491638ea32"
      },
      "outputs": [
        {
          "name": "stdout",
          "output_type": "stream",
          "text": [
            "Number of rows with URLs: 0\n"
          ]
        }
      ],
      "source": [
        "import re\n",
        "# Find rows the contains URLs pattern\n",
        "url_pattern = r'http\\S+|www\\S+'\n",
        "url_df = df[df['text'].str.contains(url_pattern)]\n",
        "print(f\"Number of rows with URLs: {len(url_df)}\")\n"
      ]
    },
    {
      "cell_type": "code",
      "execution_count": 22,
      "metadata": {
        "colab": {
          "base_uri": "https://localhost:8080/"
        },
        "id": "xTGuoCr7V2In",
        "outputId": "cd42d420-1f27-42e8-914a-8bd7f7757559"
      },
      "outputs": [
        {
          "name": "stdout",
          "output_type": "stream",
          "text": [
            "Number of rows with mentioned hashtags: 28\n"
          ]
        }
      ],
      "source": [
        "# Find rows that contain mentioned and hashtag patterns\n",
        "mention_hashtags = r'[@#]\\w+'\n",
        "hashtags_df = df.loc[df['text'].str.contains(mention_hashtags, na=False)]\n",
        "print(f\"Number of rows with mentioned hashtags: {len(hashtags_df)}\")"
      ]
    },
    {
      "cell_type": "code",
      "execution_count": 23,
      "metadata": {
        "colab": {
          "base_uri": "https://localhost:8080/"
        },
        "id": "3NZstYFzWyQS",
        "outputId": "8cc1e628-8365-4a6c-93a9-f5f255bec017"
      },
      "outputs": [
        {
          "name": "stdout",
          "output_type": "stream",
          "text": [
            "Number of rows with emojis: 22\n"
          ]
        }
      ],
      "source": [
        "# Locating emojis patterns\n",
        "emoji_pattern = r'[\\U00010000-\\U0010ffff]'\n",
        "emoji_df = df.loc[df['text'].str.contains(emoji_pattern, na=False)]\n",
        "print(f\"Number of rows with emojis: {len(emoji_df)}\")"
      ]
    },
    {
      "cell_type": "code",
      "execution_count": 24,
      "metadata": {
        "colab": {
          "base_uri": "https://localhost:8080/"
        },
        "id": "QE0SiGh5XukC",
        "outputId": "8df33f6c-1745-48fe-9867-d4ca94bee80b"
      },
      "outputs": [
        {
          "name": "stdout",
          "output_type": "stream",
          "text": [
            "Rows with extra spaces: 0\n"
          ]
        }
      ],
      "source": [
        "# Find texts with extra spaces\n",
        "spaces_df = df[df['text'].str.contains(r'\\s{2,}', regex=True, na=False)]\n",
        "print(f\"Rows with extra spaces: {len(spaces_df)}\")\n",
        "\n"
      ]
    },
    {
      "cell_type": "markdown",
      "metadata": {
        "id": "DgKHWdHdX8j3"
      },
      "source": [
        "### We have successfully identified that some of the records have emojis and hastags or mentioned.\n",
        "### We proceed to removing them\n",
        "#### To remove emojis we need to install emoji"
      ]
    },
    {
      "cell_type": "code",
      "execution_count": 25,
      "metadata": {
        "colab": {
          "base_uri": "https://localhost:8080/"
        },
        "id": "xgTlLobQAzxl",
        "outputId": "d99ae426-5561-4d42-b626-7591e1a640da"
      },
      "outputs": [
        {
          "name": "stdout",
          "output_type": "stream",
          "text": [
            "Requirement already satisfied: emoji in c:\\users\\emmanuel\\anaconda3\\lib\\site-packages (2.15.0)\n",
            "Note: you may need to restart the kernel to use updated packages.\n"
          ]
        }
      ],
      "source": [
        "%pip install emoji"
      ]
    },
    {
      "cell_type": "code",
      "execution_count": 26,
      "metadata": {
        "id": "yxPpa7VXAosL"
      },
      "outputs": [],
      "source": [
        "import emoji\n",
        "\n",
        "def remove_emojis(text):\n",
        "    if not isinstance(text, str):\n",
        "        return \"\"\n",
        "    return emoji.replace_emoji(text, replace='')\n"
      ]
    },
    {
      "cell_type": "code",
      "execution_count": 27,
      "metadata": {
        "id": "SZLVAi76BFd6"
      },
      "outputs": [],
      "source": [
        "df['text'] = df['text'].apply(remove_emojis)"
      ]
    },
    {
      "cell_type": "markdown",
      "metadata": {
        "id": "LyCLGWgwB6-t"
      },
      "source": [
        "### Below is a function to remove all noise in the 'text' column"
      ]
    },
    {
      "cell_type": "code",
      "execution_count": 28,
      "metadata": {
        "id": "FR616vHXYUmL"
      },
      "outputs": [],
      "source": [
        "import html\n",
        "\n",
        "def cleaning_text(text):\n",
        "  \"\"\"Removing emojis, hashtags,\n",
        "  and other regex in the text \"\"\"\n",
        "\n",
        "  if not isinstance(text, str):\n",
        "    return \"\"\n",
        "\n",
        "\n",
        " #Replace multiple spaces with a single one\n",
        "  text = re.sub(r'\\s+', ' ', text).strip()\n",
        "\n",
        "\n",
        "  # Remove HTML tags like <br>, <p>, etc.\n",
        "  text = re.sub(r'<.*?>', ' ', text)\n",
        "\n",
        "  # Decode HTML entities (&amp;, &lt;, etc.)\n",
        "  text = html.unescape(text)\n",
        "\n",
        "\n",
        "  # removing hashtags and mentions\n",
        "  text = re.sub(r'[@#]\\w+', '', text)\n",
        "  #removing #\n",
        "  text = re.sub(r'#+', '', text)\n",
        "\n",
        "  #removing \"/\\\"\n",
        "  text = re.sub(r'\\\\', '', text)\n",
        "  text = re.sub(r'/', '', text)\n",
        "\n",
        "  # Remove everything else\n",
        "  text = re.sub(r'[^A-Za-z0-9\\s.,!?$₵%:;\\'\"-]', ' ', text)\n",
        "\n",
        "  #removing extra spaces\n",
        "  text = re.sub(r'\\s{2,}', ' ', text)\n",
        "\n",
        "  return text"
      ]
    },
    {
      "cell_type": "code",
      "execution_count": 29,
      "metadata": {
        "id": "v7WbppKsagw8"
      },
      "outputs": [],
      "source": [
        "#Applying cleaning_text to df['text']\n",
        "df['text'] = df['text'].apply(cleaning_text)"
      ]
    },
    {
      "cell_type": "code",
      "execution_count": 30,
      "metadata": {
        "colab": {
          "base_uri": "https://localhost:8080/",
          "height": 1000
        },
        "id": "gFQKBFmnaw1N",
        "outputId": "bec88e1f-a21e-4410-ba05-4346efb3ca97"
      },
      "outputs": [
        {
          "data": {
            "text/plain": [
              "487                 Need to merge two accounts into one.\n",
              "488    Incorrect role assigned; need admin access for...\n",
              "489                  Overcharged by $49 on my last bill.\n",
              "492                  Overcharged by $49 on my last bill.\n",
              "493    Subscription renewal charged incorrectly this ...\n",
              "494           Locked out after too many login attempts. \n",
              "496                Website returns 500 error on profile.\n",
              "497    Subscription renewal charged incorrectly this ...\n",
              "498                   Charged twice for the same order .\n",
              "499           Integration with Slack fails with timeout.\n",
              "500                How can I request my data under GDPR?\n",
              "501               Website returns 500 error on checkout.\n",
              "502    Requesting invoice to be sent monthly instead ...\n",
              "503        Upload stuck at 99% for more than 10 minutes.\n",
              "504     Forgot my password and reset link never arrives.\n",
              "505      Please provide onboarding training for my team.\n",
              "506      Please provide onboarding training for my team.\n",
              "507     Profile picture upload fails with unknown error.\n",
              "508         Do you offer discounts for students or NGOs?\n",
              "509                    When is the Pro pricing changing?\n",
              "510    Requesting invoice to be sent monthly instead ...\n",
              "511                Dark mode toggled but UI stays light.\n",
              "512         Do you offer discounts for students or NGOs?\n",
              "513            Live chat widget not loading on homepage.\n",
              "514                    Refund not received after 7 days.\n",
              "515       Currency converted incorrectly; expected USD. \n",
              "516            Can't verify phone number; code not sent.\n",
              "517                Dark mode toggled but UI stays light.\n",
              "518    Search results page is blank after entering a ...\n",
              "519    Payment failed during checkout with card endin...\n",
              "Name: text, dtype: object"
            ]
          },
          "execution_count": 30,
          "metadata": {},
          "output_type": "execute_result"
        }
      ],
      "source": [
        "#inspecting if changes took effect\n",
        "df['text'].tail(30)"
      ]
    },
    {
      "cell_type": "markdown",
      "metadata": {
        "id": "Lu5iGJhnt4Mf"
      },
      "source": [
        "## Done with cleaning our data, proceeding to Exploratory Findings\n",
        "## 🔍 Exploratory Findings\n",
        "\n",
        "### 1. Label Distribution\n",
        "- The dataset shows **moderate class imbalance**, with “Other” and “Technical” being slightly dominant.  \n",
        "- Distribution insights guide **stratified sampling** during model training to maintain fairness."
      ]
    },
    {
      "cell_type": "code",
      "execution_count": 31,
      "metadata": {
        "colab": {
          "base_uri": "https://localhost:8080/",
          "height": 625
        },
        "id": "yZWF9GGye3pd",
        "outputId": "cf7413e3-d9aa-4371-c64c-a54542fa6eab"
      },
      "outputs": [
        {
          "name": "stdout",
          "output_type": "stream",
          "text": [
            "label\n",
            "other        125\n",
            "technical    119\n",
            "account      115\n",
            "billing      113\n",
            "Name: count, dtype: int64\n"
          ]
        },
        {
          "data": {
            "image/png": "[encoded data removed]",
            "text/plain": [
              "<Figure size 640x480 with 1 Axes>"
            ]
          },
          "metadata": {},
          "output_type": "display_data"
        }
      ],
      "source": [
        "import matplotlib.pyplot as plt\n",
        "import seaborn as sns\n",
        "print(df['label'].value_counts())\n",
        "\n",
        "# Plotting bar chart to know the distirbution of each class in the label class\n",
        "df['label'].value_counts().plot(kind = 'bar', )\n",
        "plt.title('Label Distribution')\n",
        "plt.xlabel('Label')\n",
        "plt.ylabel('Count')\n",
        "plt.show()"
      ]
    },
    {
      "cell_type": "markdown",
      "metadata": {
        "id": "sWOmK0F56DE8"
      },
      "source": [
        "# Next is Text Analysis"
      ]
    },
    {
      "cell_type": "code",
      "execution_count": 32,
      "metadata": {
        "colab": {
          "base_uri": "https://localhost:8080/"
        },
        "id": "n5gdDYbR6Cwk",
        "outputId": "7993c264-28c1-4d67-92f0-c46fd6984ff8"
      },
      "outputs": [
        {
          "name": "stdout",
          "output_type": "stream",
          "text": [
            "Text length (in words): Summary statistics:\n",
            "count    472.000000\n",
            "mean       7.381356\n",
            "std        1.081946\n",
            "min        5.000000\n",
            "25%        7.000000\n",
            "50%        7.000000\n",
            "75%        8.000000\n",
            "max       10.000000\n",
            "Name: text, dtype: float64\n"
          ]
        }
      ],
      "source": [
        "#Calculate text lengths (in words)\n",
        "# Convert each text to string and split into words, then count them\n",
        "text_length = df[\"text\"].astype(str).apply(lambda x: len(x.split()))\n",
        "\n",
        "# Print summary statistics\n",
        "print(\"Text length (in words): Summary statistics:\")\n",
        "print(text_length.describe())\n"
      ]
    },
    {
      "cell_type": "code",
      "execution_count": 33,
      "metadata": {
        "colab": {
          "base_uri": "https://localhost:8080/",
          "height": 718
        },
        "id": "YJTTfUY98gWa",
        "outputId": "df0b81ac-444f-44d1-de33-db426eda2913"
      },
      "outputs": [
        {
          "data": {
            "image/png": "[encoded data removed]",
            "text/plain": [
              "<Figure size 1000x800 with 1 Axes>"
            ]
          },
          "metadata": {},
          "output_type": "display_data"
        }
      ],
      "source": [
        "#plotting Test Statistics\n",
        "plt.figure(figsize=(10,8))\n",
        "text_length.hist(bins=30)\n",
        "plt.title('Distribution of Text Length')\n",
        "plt.xlabel('Number of words per ticket')\n",
        "plt.ylabel('Frequency')\n",
        "plt.show()"
      ]
    },
    {
      "cell_type": "code",
      "execution_count": 34,
      "metadata": {
        "id": "dNq6Lap7yuoB"
      },
      "outputs": [],
      "source": [
        "# dropping two added columns\n",
        "df.drop(['has_weird_symbol', 'symbol_context'], axis=1, inplace = True)"
      ]
    },
    {
      "cell_type": "code",
      "execution_count": 35,
      "metadata": {
        "colab": {
          "base_uri": "https://localhost:8080/",
          "height": 206
        },
        "id": "g9mnKTf70ynT",
        "outputId": "a20579d1-78e3-48af-ad24-ffb11f21b1a4"
      },
      "outputs": [
        {
          "data": {
            "text/html": [
              "<div>\n",
              "<style scoped>\n",
              "    .dataframe tbody tr th:only-of-type {\n",
              "        vertical-align: middle;\n",
              "    }\n",
              "\n",
              "    .dataframe tbody tr th {\n",
              "        vertical-align: top;\n",
              "    }\n",
              "\n",
              "    .dataframe thead th {\n",
              "        text-align: right;\n",
              "    }\n",
              "</style>\n",
              "<table border=\"1\" class=\"dataframe\">\n",
              "  <thead>\n",
              "    <tr style=\"text-align: right;\">\n",
              "      <th></th>\n",
              "      <th>text</th>\n",
              "      <th>label</th>\n",
              "      <th>ticket_id</th>\n",
              "      <th>agent_name</th>\n",
              "    </tr>\n",
              "  </thead>\n",
              "  <tbody>\n",
              "    <tr>\n",
              "      <th>0</th>\n",
              "      <td>Where can I find API rate limits documentation?</td>\n",
              "      <td>other</td>\n",
              "      <td>1000</td>\n",
              "      <td>Dana</td>\n",
              "    </tr>\n",
              "    <tr>\n",
              "      <th>1</th>\n",
              "      <td>Can I migrate data from Freshdesk?</td>\n",
              "      <td>other</td>\n",
              "      <td>1001</td>\n",
              "      <td>Bob</td>\n",
              "    </tr>\n",
              "    <tr>\n",
              "      <th>2</th>\n",
              "      <td>Cannot update billing address; page keeps relo...</td>\n",
              "      <td>billing</td>\n",
              "      <td>1002</td>\n",
              "      <td>Charlie</td>\n",
              "    </tr>\n",
              "    <tr>\n",
              "      <th>3</th>\n",
              "      <td>Looking for a product roadmap or upcoming feat...</td>\n",
              "      <td>other</td>\n",
              "      <td>1003</td>\n",
              "      <td>Dana</td>\n",
              "    </tr>\n",
              "    <tr>\n",
              "      <th>4</th>\n",
              "      <td>Dark mode toggled but UI stays light.</td>\n",
              "      <td>technical</td>\n",
              "      <td>1004</td>\n",
              "      <td>Alice</td>\n",
              "    </tr>\n",
              "  </tbody>\n",
              "</table>\n",
              "</div>"
            ],
            "text/plain": [
              "                                                text      label  ticket_id  \\\n",
              "0    Where can I find API rate limits documentation?      other       1000   \n",
              "1                 Can I migrate data from Freshdesk?      other       1001   \n",
              "2  Cannot update billing address; page keeps relo...    billing       1002   \n",
              "3  Looking for a product roadmap or upcoming feat...      other       1003   \n",
              "4              Dark mode toggled but UI stays light.  technical       1004   \n",
              "\n",
              "  agent_name  \n",
              "0       Dana  \n",
              "1        Bob  \n",
              "2    Charlie  \n",
              "3       Dana  \n",
              "4      Alice  "
            ]
          },
          "execution_count": 35,
          "metadata": {},
          "output_type": "execute_result"
        }
      ],
      "source": [
        "df.head()"
      ]
    },
    {
      "cell_type": "code",
      "execution_count": 36,
      "metadata": {
        "colab": {
          "base_uri": "https://localhost:8080/",
          "height": 426
        },
        "id": "etfG7grSFMxw",
        "outputId": "05ee11ca-01b0-46f4-8d55-70b5ce96ad42"
      },
      "outputs": [
        {
          "data": {
            "text/html": [
              "<div>\n",
              "<style scoped>\n",
              "    .dataframe tbody tr th:only-of-type {\n",
              "        vertical-align: middle;\n",
              "    }\n",
              "\n",
              "    .dataframe tbody tr th {\n",
              "        vertical-align: top;\n",
              "    }\n",
              "\n",
              "    .dataframe thead th {\n",
              "        text-align: right;\n",
              "    }\n",
              "</style>\n",
              "<table border=\"1\" class=\"dataframe\">\n",
              "  <thead>\n",
              "    <tr style=\"text-align: right;\">\n",
              "      <th></th>\n",
              "      <th>sample_of</th>\n",
              "      <th>text</th>\n",
              "      <th>label</th>\n",
              "    </tr>\n",
              "  </thead>\n",
              "  <tbody>\n",
              "    <tr>\n",
              "      <th>0</th>\n",
              "      <td>account</td>\n",
              "      <td>Profile picture upload fails with unknown error.</td>\n",
              "      <td>account</td>\n",
              "    </tr>\n",
              "    <tr>\n",
              "      <th>1</th>\n",
              "      <td>account</td>\n",
              "      <td>How do I delete my account and all data?</td>\n",
              "      <td>account</td>\n",
              "    </tr>\n",
              "    <tr>\n",
              "      <th>2</th>\n",
              "      <td>account</td>\n",
              "      <td>Profile picture upload fails with unknown error.</td>\n",
              "      <td>account</td>\n",
              "    </tr>\n",
              "    <tr>\n",
              "      <th>3</th>\n",
              "      <td>billing</td>\n",
              "      <td>Subscription renewal charged incorrectly this ...</td>\n",
              "      <td>billing</td>\n",
              "    </tr>\n",
              "    <tr>\n",
              "      <th>4</th>\n",
              "      <td>billing</td>\n",
              "      <td>Promo code SAVE20 not applied at checkout.</td>\n",
              "      <td>billing</td>\n",
              "    </tr>\n",
              "    <tr>\n",
              "      <th>5</th>\n",
              "      <td>billing</td>\n",
              "      <td>Currency converted incorrectly; expected GBP.</td>\n",
              "      <td>billing</td>\n",
              "    </tr>\n",
              "    <tr>\n",
              "      <th>6</th>\n",
              "      <td>other</td>\n",
              "      <td>Do you offer discounts for students or NGOs?</td>\n",
              "      <td>other</td>\n",
              "    </tr>\n",
              "    <tr>\n",
              "      <th>7</th>\n",
              "      <td>other</td>\n",
              "      <td>Please provide onboarding training for my team.</td>\n",
              "      <td>other</td>\n",
              "    </tr>\n",
              "    <tr>\n",
              "      <th>8</th>\n",
              "      <td>other</td>\n",
              "      <td>Requesting invoice to be sent monthly instead ...</td>\n",
              "      <td>other</td>\n",
              "    </tr>\n",
              "    <tr>\n",
              "      <th>9</th>\n",
              "      <td>technical</td>\n",
              "      <td>File export to CSV generates corrupted file.</td>\n",
              "      <td>technical</td>\n",
              "    </tr>\n",
              "    <tr>\n",
              "      <th>10</th>\n",
              "      <td>technical</td>\n",
              "      <td>Upload stuck at 37% for more than 10 minutes.</td>\n",
              "      <td>technical</td>\n",
              "    </tr>\n",
              "    <tr>\n",
              "      <th>11</th>\n",
              "      <td>technical</td>\n",
              "      <td>App crashes when I tap Submit on Android.</td>\n",
              "      <td>technical</td>\n",
              "    </tr>\n",
              "  </tbody>\n",
              "</table>\n",
              "</div>"
            ],
            "text/plain": [
              "    sample_of                                               text      label\n",
              "0     account  Profile picture upload fails with unknown error.     account\n",
              "1     account           How do I delete my account and all data?    account\n",
              "2     account   Profile picture upload fails with unknown error.    account\n",
              "3     billing  Subscription renewal charged incorrectly this ...    billing\n",
              "4     billing         Promo code SAVE20 not applied at checkout.    billing\n",
              "5     billing      Currency converted incorrectly; expected GBP.    billing\n",
              "6       other       Do you offer discounts for students or NGOs?      other\n",
              "7       other    Please provide onboarding training for my team.      other\n",
              "8       other  Requesting invoice to be sent monthly instead ...      other\n",
              "9   technical       File export to CSV generates corrupted file.  technical\n",
              "10  technical      Upload stuck at 37% for more than 10 minutes.  technical\n",
              "11  technical          App crashes when I tap Submit on Android.  technical"
            ]
          },
          "metadata": {},
          "output_type": "display_data"
        }
      ],
      "source": [
        "if set([\"text\",\"label\"]).issubset(df.columns):\n",
        "    def sample_per_class(dataframe, col_label=\"label\", n=3):\n",
        "        samples = []\n",
        "        for cls, group in dataframe.groupby(col_label):\n",
        "            s = group.sample(min(n, len(group)), random_state=RANDOM_SEED)[[\"text\", col_label]]\n",
        "            s.insert(0, \"sample_of\", cls)\n",
        "            samples.append(s)\n",
        "        return pd.concat(samples, ignore_index=True)\n",
        "\n",
        "    samples_df = sample_per_class(df, \"label\", n=3)\n",
        "    display(samples_df)\n",
        "else:\n",
        "    print(\"Skipping samples per class — missing 'text' or 'label'.\")"
      ]
    },
    {
      "cell_type": "code",
      "execution_count": 37,
      "metadata": {
        "id": "1h8I_eGPEj85"
      },
      "outputs": [],
      "source": [
        "df.to_csv(\"../data/clean/clean_tickets.csv\", index=False)"
      ]
    },
    {
      "cell_type": "markdown",
      "metadata": {
        "id": "1f77608a"
      },
      "source": [
        "# Summary of Data Exploration and Preprocessing\n",
        "\n",
        "This notebook covers the initial steps of exploring and cleaning the Customer Support Ticket Dataset.\n",
        "\n",
        "## 1. Data Loading and Inspection\n",
        "\n",
        "- The dataset was loaded from a CSV file.\n",
        "- Initial inspection revealed 520 rows and 4 columns.\n",
        "- Missing values were identified in the 'text' and 'label' columns (25 in each).\n",
        "- No duplicate rows were found.\n",
        "- Inconsistent labeling (typos, casing, and spacing) was observed in the 'label' column.\n",
        "\n",
        "## 2. Data Cleaning\n",
        "\n",
        "- Missing values were dropped from the dataset.\n",
        "- Labels were normalized to four core classes: `billing`, `technical`, `account`, and `other`. This involved:\n",
        "    - Converting labels to lowercase and removing leading/trailing spaces.\n",
        "    - Mapping variations (e.g., 'Accnt', 'Tech-support', 'Othr') to the standardized classes.\n",
        "- Text cleaning was performed on the 'text' column to remove noise:\n",
        "    - HTML tags were removed.\n",
        "    - HTML entities were decoded.\n",
        "    - Mentions and hashtags were removed.\n",
        "    - Emojis were removed.\n",
        "    - Extra spaces were removed.\n",
        "\n",
        "## 3. Exploratory Findings\n",
        "\n",
        "- **Label Distribution:** Analysis showed a moderate class imbalance among the four normalized labels, with 'other' and 'technical' being slightly more frequent.\n",
        "- **Text Analysis:** Calculated the length of each text entry (in words) and plotted the distribution. The summary statistics and histogram indicate that most ticket descriptions are relatively short.\n",
        "\n",
        "This preprocessing ensures the dataset is clean and ready for subsequent stages of the MLOps pipeline, particularly for training a text classification model."
      ]
    }
  ],
  "metadata": {
    "colab": {
      "provenance": []
    },
    "kernelspec": {
      "display_name": ".venv",
      "language": "python",
      "name": "python3"
    },
    "language_info": {
      "codemirror_mode": {
        "name": "ipython",
        "version": 3
      },
      "file_extension": ".py",
      "mimetype": "text/x-python",
      "name": "python",
      "nbconvert_exporter": "python",
      "pygments_lexer": "ipython3",
      "version": "3.13.5"
    }
  },
  "nbformat": 4,
  "nbformat_minor": 0
}
