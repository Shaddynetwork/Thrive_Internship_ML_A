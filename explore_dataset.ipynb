{
 "cells": [
  {
   "cell_type": "markdown",
   "id": "70b1c290",
   "metadata": {},
   "source": [
    "\n",
    "# 🧪 Customer Support Classifier — Dataset Exploration (Week 1)\n",
    "\n",
    "**Goal:** Quick, reproducible exploration of the `customer_support_tickets_clean_500.csv` dataset.\n",
    "\n",
    "**What you'll do in this notebook:**\n",
    "1. Load the dataset from `data/`\n",
    "2. Inspect schema & basic stats\n",
    "3. Check class distribution\n",
    "4. Preview random samples per class\n",
    "5. Look at text length distribution\n",
    "6. (Optional) Quick train/test split sanity check\n",
    "\n",
    "> Run this notebook in Google Colab or locally inside the repo.\n"
   ]
  },
  {
   "cell_type": "code",
   "execution_count": null,
   "id": "24272978",
   "metadata": {},
   "outputs": [],
   "source": [
    "\n",
    "import os\n",
    "import pandas as pd\n",
    "import numpy as np\n",
    "import matplotlib.pyplot as plt\n",
    "from collections import Counter\n",
    "from sklearn.model_selection import train_test_split\n",
    "\n",
    "# Ensure plots show inline\n",
    "%matplotlib inline\n"
   ]
  },
  {
   "cell_type": "code",
   "execution_count": null,
   "id": "f909d479",
   "metadata": {},
   "outputs": [],
   "source": [
    "\n",
    "# === Config ===\n",
    "DATA_PATH = \"data/customer_support_tickets_clean_500.csv\"  # adjust if needed\n",
    "RANDOM_SEED = 42\n",
    "\n",
    "# Reproducibility\n",
    "np.random.seed(RANDOM_SEED)\n"
   ]
  },
  {
   "cell_type": "code",
   "execution_count": null,
   "id": "90051d16",
   "metadata": {},
   "outputs": [],
   "source": [
    "\n",
    "assert os.path.exists(DATA_PATH), f\"Could not find file at {DATA_PATH}. Make sure the CSV is in the data/ folder.\"\n",
    "df = pd.read_csv(DATA_PATH)\n",
    "\n",
    "print(\"✅ Loaded dataset.\")\n",
    "print(\"Shape:\", df.shape)\n",
    "df.head()\n"
   ]
  },
  {
   "cell_type": "code",
   "execution_count": null,
   "id": "2ef2b7b1",
   "metadata": {},
   "outputs": [],
   "source": [
    "\n",
    "print(\"Columns:\", df.columns.tolist())\n",
    "print(\"\\nInfo:\")\n",
    "print(df.info())\n",
    "\n",
    "print(\"\\nMissing values per column:\")\n",
    "print(df.isna().sum())\n"
   ]
  },
  {
   "cell_type": "code",
   "execution_count": null,
   "id": "f1455d28",
   "metadata": {},
   "outputs": [],
   "source": [
    "\n",
    "# Try to normalize expected columns if they exist with different names\n",
    "# Expected: 'text' and 'label'\n",
    "candidate_text_cols = [c for c in df.columns if c.lower() in [\"text\", \"ticket_text\", \"message\", \"body\"]]\n",
    "candidate_label_cols = [c for c in df.columns if c.lower() in [\"label\", \"category\", \"class\"]]\n",
    "\n",
    "if candidate_text_cols and \"text\" not in df.columns:\n",
    "    df = df.rename(columns={candidate_text_cols[0]: \"text\"})\n",
    "if candidate_label_cols and \"label\" not in df.columns:\n",
    "    df = df.rename(columns={candidate_label_cols[0]: \"label\"})\n",
    "\n",
    "print(\"Using columns: text ->\", \"text\" in df.columns, \", label ->\", \"label\" in df.columns)\n",
    "display(df.head(3))\n"
   ]
  },
  {
   "cell_type": "code",
   "execution_count": null,
   "id": "81dc42c4",
   "metadata": {},
   "outputs": [],
   "source": [
    "\n",
    "if \"label\" in df.columns:\n",
    "    counts = df[\"label\"].value_counts().sort_index()\n",
    "    print(\"Class distribution:\")\n",
    "    print(counts)\n",
    "\n",
    "    # Plot class distribution\n",
    "    plt.figure()\n",
    "    counts.plot(kind=\"bar\")\n",
    "    plt.title(\"Class Distribution\")\n",
    "    plt.xlabel(\"Label\")\n",
    "    plt.ylabel(\"Count\")\n",
    "    plt.show()\n",
    "else:\n",
    "    print(\"No 'label' column found; please ensure your CSV has a label/category column.\")\n"
   ]
  },
  {
   "cell_type": "code",
   "execution_count": null,
   "id": "62d1687c",
   "metadata": {},
   "outputs": [],
   "source": [
    "\n",
    "if \"text\" in df.columns:\n",
    "    text_lengths = df[\"text\"].astype(str).apply(lambda x: len(x.split()))\n",
    "    print(\"Text length (words) — summary stats:\")\n",
    "    print(text_lengths.describe())\n",
    "\n",
    "    plt.figure()\n",
    "    text_lengths.hist(bins=30)\n",
    "    plt.title(\"Text Length Distribution (by words)\")\n",
    "    plt.xlabel(\"Words per ticket\")\n",
    "    plt.ylabel(\"Frequency\")\n",
    "    plt.show()\n",
    "else:\n",
    "    print(\"No 'text' column found; please ensure your CSV has a text column.\")\n"
   ]
  },
  {
   "cell_type": "code",
   "execution_count": null,
   "id": "df413ca4",
   "metadata": {},
   "outputs": [],
   "source": [
    "\n",
    "if set([\"text\",\"label\"]).issubset(df.columns):\n",
    "    def sample_per_class(dataframe, col_label=\"label\", n=3):\n",
    "        samples = []\n",
    "        for cls, group in dataframe.groupby(col_label):\n",
    "            s = group.sample(min(n, len(group)), random_state=RANDOM_SEED)[[\"text\", col_label]]\n",
    "            s.insert(0, \"sample_of\", cls)\n",
    "            samples.append(s)\n",
    "        return pd.concat(samples, ignore_index=True)\n",
    "\n",
    "    samples_df = sample_per_class(df, \"label\", n=3)\n",
    "    display(samples_df)\n",
    "else:\n",
    "    print(\"Skipping samples per class — missing 'text' or 'label'.\")\n"
   ]
  },
  {
   "cell_type": "code",
   "execution_count": null,
   "id": "c8ea70cc",
   "metadata": {},
   "outputs": [],
   "source": [
    "\n",
    "if set([\"text\",\"label\"]).issubset(df.columns):\n",
    "    train_df, test_df = train_test_split(df, test_size=0.2, stratify=df[\"label\"], random_state=RANDOM_SEED)\n",
    "    print(\"Train shape:\", train_df.shape, \"Test shape:\", test_df.shape)\n",
    "\n",
    "    # Verify stratification\n",
    "    print(\"\\nTrain class distribution:\")\n",
    "    print(train_df[\"label\"].value_counts(normalize=True).sort_index())\n",
    "\n",
    "    print(\"\\nTest class distribution:\")\n",
    "    print(test_df[\"label\"].value_counts(normalize=True).sort_index())\n",
    "else:\n",
    "    print(\"Skipping split — missing 'text' or 'label'.\")\n"
   ]
  },
  {
   "cell_type": "code",
   "execution_count": null,
   "id": "f9b49c80",
   "metadata": {},
   "outputs": [],
   "source": [
    "\n",
    "# Save processed artifacts (optional)\n",
    "import os\n",
    "os.makedirs(\"artifacts\", exist_ok=True)\n",
    "df.head(50).to_csv(\"artifacts/sample_preview.csv\", index=False)\n",
    "print(\"Saved artifacts/sample_preview.csv\")\n"
   ]
  },
  {
   "cell_type": "markdown",
   "id": "6f7d9db9",
   "metadata": {},
   "source": [
    "\n",
    "---\n",
    "\n",
    "**Notes for interns:**  \n",
    "- If your CSV uses different column names, adjust the rename cell accordingly.  \n",
    "- Keep your environment consistent (Python 3.9+).  \n",
    "- Push your findings as a short markdown summary in the repo (`reports/week1_summary_yourname.md`).\n",
    "\n",
    "_Last updated: 2025-10-03 15:23 UTC_\n"
   ]
  }
 ],
 "metadata": {},
 "nbformat": 4,
 "nbformat_minor": 5
}
