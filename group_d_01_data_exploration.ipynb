{
  "nbformat": 4,
  "nbformat_minor": 0,
  "metadata": {
    "colab": {
      "provenance": [],
      "include_colab_link": true
    },
    "kernelspec": {
      "name": "python3",
      "display_name": "Python 3"
    },
    "language_info": {
      "name": "python"
    }
  },
  "cells": [
    {
      "cell_type": "markdown",
      "metadata": {
        "id": "view-in-github",
        "colab_type": "text"
      },
      "source": [
        "<a href=\"https://colab.research.google.com/github/Rodney-Jr/Thrive_Internship_ML_A/blob/Franca-group-d-01-data-exploration/group_d_01_data_exploration.ipynb\" target=\"_parent\"><img src=\"https://colab.research.google.com/assets/colab-badge.svg\" alt=\"Open In Colab\"/></a>"
      ]
    },
    {
      "cell_type": "code",
      "source": [],
      "metadata": {
        "id": "CS9GXuMKwpb1"
      },
      "execution_count": null,
      "outputs": []
    },
    {
      "cell_type": "code",
      "execution_count": 1,
      "metadata": {
        "id": "lZYIGF1dc8Eh",
        "collapsed": true
      },
      "outputs": [],
      "source": [
        "# setting up the development environment\n",
        "import os\n",
        "import pandas as pd\n",
        "import numpy as np\n",
        "import matplotlib.pyplot as plt\n",
        "import seaborn as sns\n",
        "import re\n",
        "from collections import Counter\n",
        "from sklearn.model_selection import train_test_split\n",
        "\n",
        "#Ensure plots show inline\n",
        "%matplotlib inline"
      ]
    },
    {
      "cell_type": "code",
      "source": [
        "# Load dataset from github repo\n",
        "url = \"https://raw.githubusercontent.com/Rodney-Jr/Thrive_Internship_ML_A/refs/heads/main/customer_support_tickets_dirty.csv\"\n",
        "df = pd.read_csv(url)\n",
        "\n",
        "df.head() #inspecting first few rows(head()) of the datatset."
      ],
      "metadata": {
        "id": "trNxGc5S59FW",
        "collapsed": true
      },
      "execution_count": null,
      "outputs": []
    },
    {
      "cell_type": "code",
      "source": [
        "df.shape #checking the number of rows and columns"
      ],
      "metadata": {
        "id": "XsljbFa88UIx",
        "collapsed": true
      },
      "execution_count": null,
      "outputs": []
    },
    {
      "cell_type": "code",
      "source": [
        "df.info() #getting the basic information of the dataset"
      ],
      "metadata": {
        "id": "hW10eicf-qUX",
        "collapsed": true
      },
      "execution_count": null,
      "outputs": []
    },
    {
      "cell_type": "code",
      "source": [
        "#checking for missing or duplicated data\n",
        "df.isnull().sum() #checking for missing values\n",
        "df.duplicated().sum() #checking for duplicated values"
      ],
      "metadata": {
        "id": "1LzQVv8l_mX3",
        "collapsed": true
      },
      "execution_count": null,
      "outputs": []
    },
    {
      "cell_type": "code",
      "source": [
        "df.drop_duplicates(inplace=True) #dropping the duplicated values found\n",
        "df =df.dropna() #dropping the missing values found"
      ],
      "metadata": {
        "id": "pRtbFvtp_9-r"
      },
      "execution_count": 6,
      "outputs": []
    },
    {
      "cell_type": "code",
      "source": [
        "df.describe() #generates descriptive statistics of the dataframe"
      ],
      "metadata": {
        "collapsed": true,
        "id": "poKNpTNtAXy3"
      },
      "execution_count": null,
      "outputs": []
    },
    {
      "cell_type": "code",
      "source": [
        "df.describe(include='object') #generates descriptive statistics of the dataframe"
      ],
      "metadata": {
        "collapsed": true,
        "id": "fBR-Mg8xBJZf"
      },
      "execution_count": null,
      "outputs": []
    },
    {
      "cell_type": "code",
      "source": [
        "df['label'].value_counts() #checking the distribution of the target variable\n",
        "df['agent_name'].value_counts() #checking the distribution of the agent_name"
      ],
      "metadata": {
        "id": "biHqN0fqkxDe",
        "collapsed": true
      },
      "execution_count": null,
      "outputs": []
    },
    {
      "cell_type": "code",
      "source": [
        "df['label'] = df['label'].str.lower().replace({'othr': 'other'}) #fix inconsistent labels replace\"othr\" with \"other\"\n",
        "df['label'] = df['label'].str.lower().replace({'OTHER': 'other'}) #fix inconsistent labels replace\"OTHER\" with \"other\""
      ],
      "metadata": {
        "id": "JEhaLYPv_pDi"
      },
      "execution_count": 10,
      "outputs": []
    },
    {
      "cell_type": "code",
      "source": [
        "df['text'] = df['text'].str.strip() #trim text and remove whitespaces"
      ],
      "metadata": {
        "id": "ZKurbnNylVNy"
      },
      "execution_count": 11,
      "outputs": []
    },
    {
      "cell_type": "code",
      "source": [
        "sns.countplot(data=df, x='label') #plot the distribution of the target variable\n",
        "plt.title(\"Ticket Label Distribution\")\n",
        "plt.show()"
      ],
      "metadata": {
        "collapsed": true,
        "id": "Isq9Wf_h7JIx"
      },
      "execution_count": null,
      "outputs": []
    },
    {
      "cell_type": "code",
      "source": [
        "df['agent_name'].value_counts().head(10).plot(kind='bar') #plot the distribution of the agent_name\n",
        "plt.title(\"Top 10 Agent Names\")\n",
        "plt.show()"
      ],
      "metadata": {
        "id": "qsXCQ7qf7jNw",
        "collapsed": true
      },
      "execution_count": null,
      "outputs": []
    },
    {
      "cell_type": "code",
      "source": [
        "df['text_length'] = df['text'].apply(len) #create a new column with the length of the text\n",
        "sns.histplot(data=df, x='text_length', bins=50) #plot the distribution of the text length\n",
        "plt.title(\"Text Length Distribution\")\n",
        "plt.show()"
      ],
      "metadata": {
        "id": "z5mqciTO8iO9",
        "collapsed": true
      },
      "execution_count": null,
      "outputs": []
    },
    {
      "cell_type": "code",
      "source": [
        "sns.heatmap(df.corr(numeric_only=True), annot=True, cmap='coolwarm') #create a heatmap of the correlation matrix\n",
        "plt.show()"
      ],
      "metadata": {
        "id": "m887lGFD95NH",
        "collapsed": true
      },
      "execution_count": null,
      "outputs": []
    },
    {
      "cell_type": "code",
      "source": [
        "df.to_csv('customer_support_tickets_cleaned.csv', index=False) #save the cleaned dataset to a new csv file\n",
        "print(\"Cleaned dataset saved as 'customer_support_tickets_cleaned.csv\")"
      ],
      "metadata": {
        "id": "LbU67y6--b0Y",
        "collapsed": true
      },
      "execution_count": null,
      "outputs": []
    }
  ]
}